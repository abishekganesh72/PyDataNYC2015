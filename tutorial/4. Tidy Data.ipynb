{
 "cells": [
  {
   "cell_type": "markdown",
   "metadata": {
    "slideshow": {
     "slide_type": "slide"
    }
   },
   "source": [
    "# Tidy Data"
   ]
  },
  {
   "cell_type": "code",
   "execution_count": 1,
   "metadata": {
    "collapsed": false,
    "slideshow": {
     "slide_type": "fragment"
    }
   },
   "outputs": [
    {
     "name": "stderr",
     "output_type": "stream",
     "text": [
      "/Users/jreback/miniconda/lib/python2.7/site-packages/matplotlib/__init__.py:872: UserWarning: axes.color_cycle is deprecated and replaced with axes.prop_cycle; please use the latter.\n",
      "  warnings.warn(self.msg_depr % (key, alt_key))\n"
     ]
    }
   ],
   "source": [
    "import numpy as np\n",
    "import pandas as pd\n",
    "import seaborn as sns\n",
    "import matplotlib.pyplot as plt\n",
    "%matplotlib inline\n",
    "\n",
    "pd.options.display.max_rows = 6\n",
    "pd.options.display.max_columns = 6"
   ]
  },
  {
   "cell_type": "markdown",
   "metadata": {
    "slideshow": {
     "slide_type": "slide"
    }
   },
   "source": [
    "Structuring datasets to facilitate analysis [(Wickham 2014)](http://www.jstatsoft.org/v59/i10/paper)\n",
    "\n",
    "If there's one maxim I can impart it's that your tools shouldn't get in the way of your analysis. Your problem is already difficult enough, don't let the data or your tools make it any harder."
   ]
  },
  {
   "cell_type": "markdown",
   "metadata": {
    "slideshow": {
     "slide_type": "fragment"
    }
   },
   "source": [
    "In a tidy dataset...\n",
    "\n",
    "1. Each variable forms a column\n",
    "2. Each observation forms a row\n",
    "3. Each type of observational unit forms a table\n",
    "\n",
    "We'll cover a few methods that help you get there."
   ]
  },
  {
   "cell_type": "code",
   "execution_count": 2,
   "metadata": {
    "collapsed": true,
    "slideshow": {
     "slide_type": "slide"
    }
   },
   "outputs": [],
   "source": [
    "tables = pd.read_html(\"http://www.basketball-reference.com/leagues/NBA_2015_games.html\")\n",
    "games = tables[0]\n",
    "games.to_csv('data/games.csv', index=False)"
   ]
  },
  {
   "cell_type": "code",
   "execution_count": 3,
   "metadata": {
    "collapsed": false,
    "slideshow": {
     "slide_type": "fragment"
    }
   },
   "outputs": [
    {
     "name": "stdout",
     "output_type": "stream",
     "text": [
      "Date,Start (ET),Unnamed: 2,Visitor/Neutral,PTS,Home/Neutral,PTS.1,Unnamed: 7,Notes\r\n",
      "October,,,,,,,,\r\n",
      "\"Tue, Oct 28, 2014\",10:30 pm,Box Score,Houston Rockets,108.0,Los Angeles Lakers,90.0,,\r\n",
      "\"Tue, Oct 28, 2014\",8:00 pm,Box Score,Orlando Magic,84.0,New Orleans Pelicans,101.0,,\r\n",
      "\"Tue, Oct 28, 2014\",8:00 pm,Box Score,Dallas Mavericks,100.0,San Antonio Spurs,101.0,,\r\n"
     ]
    }
   ],
   "source": [
    "!head -n 5 data/games.csv"
   ]
  },
  {
   "cell_type": "markdown",
   "metadata": {
    "slideshow": {
     "slide_type": "subslide"
    }
   },
   "source": [
    "The Question:\n",
    "> **How many days of rest did each team get between each game?**\n",
    "\n",
    "Whether or not your dataset is tidy depends on your question. Given our question, what is an observation?"
   ]
  },
  {
   "cell_type": "code",
   "execution_count": 4,
   "metadata": {
    "collapsed": false,
    "slideshow": {
     "slide_type": "subslide"
    }
   },
   "outputs": [
    {
     "data": {
      "text/html": [
       "<div>\n",
       "<table border=\"1\" class=\"dataframe\">\n",
       "  <thead>\n",
       "    <tr style=\"text-align: right;\">\n",
       "      <th></th>\n",
       "      <th></th>\n",
       "      <th>away_team</th>\n",
       "      <th>away_points</th>\n",
       "      <th>home_team</th>\n",
       "      <th>home_points</th>\n",
       "    </tr>\n",
       "    <tr>\n",
       "      <th>game_id</th>\n",
       "      <th>date</th>\n",
       "      <th></th>\n",
       "      <th></th>\n",
       "      <th></th>\n",
       "      <th></th>\n",
       "    </tr>\n",
       "  </thead>\n",
       "  <tbody>\n",
       "    <tr>\n",
       "      <th>0</th>\n",
       "      <th>2014-10-28 22:30:00</th>\n",
       "      <td>Houston Rockets</td>\n",
       "      <td>108</td>\n",
       "      <td>Los Angeles Lakers</td>\n",
       "      <td>90</td>\n",
       "    </tr>\n",
       "    <tr>\n",
       "      <th>1</th>\n",
       "      <th>2014-10-28 20:00:00</th>\n",
       "      <td>Orlando Magic</td>\n",
       "      <td>84</td>\n",
       "      <td>New Orleans Pelicans</td>\n",
       "      <td>101</td>\n",
       "    </tr>\n",
       "    <tr>\n",
       "      <th>2</th>\n",
       "      <th>2014-10-28 20:00:00</th>\n",
       "      <td>Dallas Mavericks</td>\n",
       "      <td>100</td>\n",
       "      <td>San Antonio Spurs</td>\n",
       "      <td>101</td>\n",
       "    </tr>\n",
       "    <tr>\n",
       "      <th>3</th>\n",
       "      <th>2014-10-29 19:30:00</th>\n",
       "      <td>Brooklyn Nets</td>\n",
       "      <td>105</td>\n",
       "      <td>Boston Celtics</td>\n",
       "      <td>121</td>\n",
       "    </tr>\n",
       "    <tr>\n",
       "      <th>4</th>\n",
       "      <th>2014-10-29 19:00:00</th>\n",
       "      <td>Milwaukee Bucks</td>\n",
       "      <td>106</td>\n",
       "      <td>Charlotte Hornets</td>\n",
       "      <td>108</td>\n",
       "    </tr>\n",
       "  </tbody>\n",
       "</table>\n",
       "</div>"
      ],
      "text/plain": [
       "                                    away_team  away_points             home_team  home_points\n",
       "game_id date                                                                                 \n",
       "0       2014-10-28 22:30:00   Houston Rockets          108    Los Angeles Lakers           90\n",
       "1       2014-10-28 20:00:00     Orlando Magic           84  New Orleans Pelicans          101\n",
       "2       2014-10-28 20:00:00  Dallas Mavericks          100     San Antonio Spurs          101\n",
       "3       2014-10-29 19:30:00     Brooklyn Nets          105        Boston Celtics          121\n",
       "4       2014-10-29 19:00:00   Milwaukee Bucks          106     Charlotte Hornets          108"
      ]
     },
     "execution_count": 4,
     "metadata": {},
     "output_type": "execute_result"
    }
   ],
   "source": [
    "# parse and convert\n",
    "column_names = ['date1', 'time1', '_', 'away_team', 'away_points', \n",
    "                'home_team', 'home_points', 'n_ot', 'notes']\n",
    "games = (pd.read_csv('data/games.csv', names=column_names, \n",
    "                      header=None, skiprows=2)\n",
    "           .assign(date = lambda x: pd.to_datetime(x['date1'] + ' ' + x['time1'],\n",
    "                                                   errors='coerce'))\n",
    "           .drop(['_', 'date1', 'time1', 'notes', 'n_ot'], axis='columns')\n",
    "           .set_index('date', append=True)\n",
    "        )\n",
    "games.index.names = ['game_id', 'date']\n",
    "games.head()         "
   ]
  },
  {
   "cell_type": "markdown",
   "metadata": {
    "slideshow": {
     "slide_type": "subslide"
    }
   },
   "source": [
    "Is `games` a tidy dataset, given our question? No, we have multiple observations (teams) per row. We'll use `pd.melt` to fix that."
   ]
  },
  {
   "cell_type": "code",
   "execution_count": 5,
   "metadata": {
    "collapsed": false,
    "slideshow": {
     "slide_type": "fragment"
    }
   },
   "outputs": [],
   "source": [
    "tidy = pd.melt(games.sort_index().reset_index(),\n",
    "               id_vars=['game_id', 'date'], value_vars=['away_team', 'home_team'],\n",
    "               value_name='team')"
   ]
  },
  {
   "cell_type": "code",
   "execution_count": 6,
   "metadata": {
    "collapsed": false,
    "slideshow": {
     "slide_type": "fragment"
    }
   },
   "outputs": [
    {
     "data": {
      "text/html": [
       "<div>\n",
       "<table border=\"1\" class=\"dataframe\">\n",
       "  <thead>\n",
       "    <tr style=\"text-align: right;\">\n",
       "      <th></th>\n",
       "      <th>game_id</th>\n",
       "      <th>date</th>\n",
       "      <th>variable</th>\n",
       "      <th>team</th>\n",
       "    </tr>\n",
       "  </thead>\n",
       "  <tbody>\n",
       "    <tr>\n",
       "      <th>0</th>\n",
       "      <td>0</td>\n",
       "      <td>2014-10-28 22:30:00</td>\n",
       "      <td>away_team</td>\n",
       "      <td>Houston Rockets</td>\n",
       "    </tr>\n",
       "    <tr>\n",
       "      <th>1</th>\n",
       "      <td>1</td>\n",
       "      <td>2014-10-28 20:00:00</td>\n",
       "      <td>away_team</td>\n",
       "      <td>Orlando Magic</td>\n",
       "    </tr>\n",
       "    <tr>\n",
       "      <th>2</th>\n",
       "      <td>2</td>\n",
       "      <td>2014-10-28 20:00:00</td>\n",
       "      <td>away_team</td>\n",
       "      <td>Dallas Mavericks</td>\n",
       "    </tr>\n",
       "    <tr>\n",
       "      <th>3</th>\n",
       "      <td>3</td>\n",
       "      <td>2014-10-29 19:30:00</td>\n",
       "      <td>away_team</td>\n",
       "      <td>Brooklyn Nets</td>\n",
       "    </tr>\n",
       "    <tr>\n",
       "      <th>4</th>\n",
       "      <td>4</td>\n",
       "      <td>2014-10-29 19:00:00</td>\n",
       "      <td>away_team</td>\n",
       "      <td>Milwaukee Bucks</td>\n",
       "    </tr>\n",
       "  </tbody>\n",
       "</table>\n",
       "</div>"
      ],
      "text/plain": [
       "   game_id                date   variable              team\n",
       "0        0 2014-10-28 22:30:00  away_team   Houston Rockets\n",
       "1        1 2014-10-28 20:00:00  away_team     Orlando Magic\n",
       "2        2 2014-10-28 20:00:00  away_team  Dallas Mavericks\n",
       "3        3 2014-10-29 19:30:00  away_team     Brooklyn Nets\n",
       "4        4 2014-10-29 19:00:00  away_team   Milwaukee Bucks"
      ]
     },
     "execution_count": 6,
     "metadata": {},
     "output_type": "execute_result"
    }
   ],
   "source": [
    "tidy.head()"
   ]
  },
  {
   "cell_type": "code",
   "execution_count": 7,
   "metadata": {
    "collapsed": false,
    "slideshow": {
     "slide_type": "subslide"
    }
   },
   "outputs": [
    {
     "name": "stdout",
     "output_type": "stream",
     "text": [
      "<class 'pandas.core.frame.DataFrame'>\n",
      "MultiIndex: 1236 entries, (0, 2014-10-28 22:30:00) to (1235, 2015-04-15 19:00:00)\n",
      "Data columns (total 4 columns):\n",
      "away_team      1230 non-null object\n",
      "away_points    1230 non-null float64\n",
      "home_team      1230 non-null object\n",
      "home_points    1230 non-null float64\n",
      "dtypes: float64(2), object(2)\n",
      "memory usage: 59.2+ KB\n"
     ]
    }
   ],
   "source": [
    "games.info()"
   ]
  },
  {
   "cell_type": "code",
   "execution_count": 8,
   "metadata": {
    "collapsed": false,
    "slideshow": {
     "slide_type": "fragment"
    }
   },
   "outputs": [
    {
     "name": "stdout",
     "output_type": "stream",
     "text": [
      "<class 'pandas.core.frame.DataFrame'>\n",
      "Int64Index: 2472 entries, 0 to 2471\n",
      "Data columns (total 4 columns):\n",
      "game_id     2472 non-null int64\n",
      "date        2460 non-null datetime64[ns]\n",
      "variable    2472 non-null object\n",
      "team        2460 non-null object\n",
      "dtypes: datetime64[ns](1), int64(1), object(2)\n",
      "memory usage: 96.6+ KB\n"
     ]
    }
   ],
   "source": [
    "tidy.info()"
   ]
  },
  {
   "cell_type": "markdown",
   "metadata": {
    "slideshow": {
     "slide_type": "slide"
    }
   },
   "source": [
    "Now the translation from question to operation is direct:"
   ]
  },
  {
   "cell_type": "code",
   "execution_count": 9,
   "metadata": {
    "collapsed": false
   },
   "outputs": [
    {
     "data": {
      "text/html": [
       "<div>\n",
       "<table border=\"1\" class=\"dataframe\">\n",
       "  <thead>\n",
       "    <tr style=\"text-align: right;\">\n",
       "      <th></th>\n",
       "      <th>game_id</th>\n",
       "      <th>date</th>\n",
       "      <th>variable</th>\n",
       "      <th>team</th>\n",
       "    </tr>\n",
       "  </thead>\n",
       "  <tbody>\n",
       "    <tr>\n",
       "      <th>0</th>\n",
       "      <td>0</td>\n",
       "      <td>2014-10-28 22:30:00</td>\n",
       "      <td>away_team</td>\n",
       "      <td>Houston Rockets</td>\n",
       "    </tr>\n",
       "    <tr>\n",
       "      <th>1</th>\n",
       "      <td>1</td>\n",
       "      <td>2014-10-28 20:00:00</td>\n",
       "      <td>away_team</td>\n",
       "      <td>Orlando Magic</td>\n",
       "    </tr>\n",
       "    <tr>\n",
       "      <th>2</th>\n",
       "      <td>2</td>\n",
       "      <td>2014-10-28 20:00:00</td>\n",
       "      <td>away_team</td>\n",
       "      <td>Dallas Mavericks</td>\n",
       "    </tr>\n",
       "    <tr>\n",
       "      <th>3</th>\n",
       "      <td>3</td>\n",
       "      <td>2014-10-29 19:30:00</td>\n",
       "      <td>away_team</td>\n",
       "      <td>Brooklyn Nets</td>\n",
       "    </tr>\n",
       "    <tr>\n",
       "      <th>4</th>\n",
       "      <td>4</td>\n",
       "      <td>2014-10-29 19:00:00</td>\n",
       "      <td>away_team</td>\n",
       "      <td>Milwaukee Bucks</td>\n",
       "    </tr>\n",
       "  </tbody>\n",
       "</table>\n",
       "</div>"
      ],
      "text/plain": [
       "   game_id                date   variable              team\n",
       "0        0 2014-10-28 22:30:00  away_team   Houston Rockets\n",
       "1        1 2014-10-28 20:00:00  away_team     Orlando Magic\n",
       "2        2 2014-10-28 20:00:00  away_team  Dallas Mavericks\n",
       "3        3 2014-10-29 19:30:00  away_team     Brooklyn Nets\n",
       "4        4 2014-10-29 19:00:00  away_team   Milwaukee Bucks"
      ]
     },
     "execution_count": 9,
     "metadata": {},
     "output_type": "execute_result"
    }
   ],
   "source": [
    "tidy.head()"
   ]
  },
  {
   "cell_type": "code",
   "execution_count": 10,
   "metadata": {
    "collapsed": false,
    "slideshow": {
     "slide_type": "-"
    }
   },
   "outputs": [
    {
     "data": {
      "text/plain": [
       "0      NaN\n",
       "1      NaN\n",
       "2      NaN\n",
       "        ..\n",
       "2469     4\n",
       "2470     1\n",
       "2471     9\n",
       "dtype: float64"
      ]
     },
     "execution_count": 10,
     "metadata": {},
     "output_type": "execute_result"
    }
   ],
   "source": [
    "# For each team... get number of dates between games\n",
    "tidy.groupby('team')['date'].diff().dt.days - 1"
   ]
  },
  {
   "cell_type": "code",
   "execution_count": 11,
   "metadata": {
    "collapsed": false,
    "slideshow": {
     "slide_type": "subslide"
    }
   },
   "outputs": [
    {
     "data": {
      "text/html": [
       "<div>\n",
       "<table border=\"1\" class=\"dataframe\">\n",
       "  <thead>\n",
       "    <tr style=\"text-align: right;\">\n",
       "      <th></th>\n",
       "      <th>game_id</th>\n",
       "      <th>date</th>\n",
       "      <th>variable</th>\n",
       "      <th>team</th>\n",
       "      <th>rest</th>\n",
       "    </tr>\n",
       "  </thead>\n",
       "  <tbody>\n",
       "    <tr>\n",
       "      <th>10</th>\n",
       "      <td>10</td>\n",
       "      <td>2014-10-29 22:00:00</td>\n",
       "      <td>away_team</td>\n",
       "      <td>Los Angeles Lakers</td>\n",
       "      <td>-1</td>\n",
       "    </tr>\n",
       "    <tr>\n",
       "      <th>14</th>\n",
       "      <td>14</td>\n",
       "      <td>2014-10-29 21:00:00</td>\n",
       "      <td>away_team</td>\n",
       "      <td>Houston Rockets</td>\n",
       "      <td>-1</td>\n",
       "    </tr>\n",
       "    <tr>\n",
       "      <th>15</th>\n",
       "      <td>15</td>\n",
       "      <td>2014-10-30 20:00:00</td>\n",
       "      <td>away_team</td>\n",
       "      <td>New York Knicks</td>\n",
       "      <td>0</td>\n",
       "    </tr>\n",
       "    <tr>\n",
       "      <th>...</th>\n",
       "      <td>...</td>\n",
       "      <td>...</td>\n",
       "      <td>...</td>\n",
       "      <td>...</td>\n",
       "      <td>...</td>\n",
       "    </tr>\n",
       "    <tr>\n",
       "      <th>2469</th>\n",
       "      <td>1233</td>\n",
       "      <td>2015-04-15 20:00:00</td>\n",
       "      <td>home_team</td>\n",
       "      <td>New York Knicks</td>\n",
       "      <td>1</td>\n",
       "    </tr>\n",
       "    <tr>\n",
       "      <th>2470</th>\n",
       "      <td>1234</td>\n",
       "      <td>2015-04-15 20:00:00</td>\n",
       "      <td>home_team</td>\n",
       "      <td>Philadelphia 76ers</td>\n",
       "      <td>1</td>\n",
       "    </tr>\n",
       "    <tr>\n",
       "      <th>2471</th>\n",
       "      <td>1235</td>\n",
       "      <td>2015-04-15 19:00:00</td>\n",
       "      <td>home_team</td>\n",
       "      <td>Toronto Raptors</td>\n",
       "      <td>-1</td>\n",
       "    </tr>\n",
       "  </tbody>\n",
       "</table>\n",
       "<p>2430 rows × 5 columns</p>\n",
       "</div>"
      ],
      "text/plain": [
       "      game_id                date   variable                team  rest\n",
       "10         10 2014-10-29 22:00:00  away_team  Los Angeles Lakers    -1\n",
       "14         14 2014-10-29 21:00:00  away_team     Houston Rockets    -1\n",
       "15         15 2014-10-30 20:00:00  away_team     New York Knicks     0\n",
       "...       ...                 ...        ...                 ...   ...\n",
       "2469     1233 2015-04-15 20:00:00  home_team     New York Knicks     1\n",
       "2470     1234 2015-04-15 20:00:00  home_team  Philadelphia 76ers     1\n",
       "2471     1235 2015-04-15 19:00:00  home_team     Toronto Raptors    -1\n",
       "\n",
       "[2430 rows x 5 columns]"
      ]
     },
     "execution_count": 11,
     "metadata": {},
     "output_type": "execute_result"
    }
   ],
   "source": [
    "tidy['rest'] = (tidy\n",
    "                    .sort_values('date')\n",
    "                    .groupby('team')\n",
    "                    .date.diff()\n",
    "                    .dt\n",
    "                    .days - 1\n",
    ")\n",
    "tidy.dropna()"
   ]
  },
  {
   "cell_type": "code",
   "execution_count": 12,
   "metadata": {
    "collapsed": false,
    "slideshow": {
     "slide_type": "subslide"
    }
   },
   "outputs": [
    {
     "name": "stderr",
     "output_type": "stream",
     "text": [
      "/Users/jreback/miniconda/lib/python2.7/site-packages/matplotlib/__init__.py:892: UserWarning: axes.color_cycle is deprecated and replaced with axes.prop_cycle; please use the latter.\n",
      "  warnings.warn(self.msg_depr % (key, alt_key))\n"
     ]
    },
    {
     "data": {
      "text/plain": [
       "<seaborn.axisgrid.FacetGrid at 0x11152c9d0>"
      ]
     },
     "execution_count": 12,
     "metadata": {},
     "output_type": "execute_result"
    },
    {
     "data": {
      "image/png": "[encoded data removed]",
      "text/plain": [
       "<matplotlib.figure.Figure at 0x1119ebed0>"
      ]
     },
     "metadata": {},
     "output_type": "display_data"
    }
   ],
   "source": [
    "(tidy.dropna()\n",
    "     .pipe(sns.FacetGrid, col='team', col_wrap=9, hue='team')\n",
    "     .map(sns.barplot, \"variable\", \"rest\")\n",
    " )"
   ]
  },
  {
   "cell_type": "markdown",
   "metadata": {
    "slideshow": {
     "slide_type": "subslide"
    }
   },
   "source": [
    "What are we doing?"
   ]
  },
  {
   "cell_type": "code",
   "execution_count": 13,
   "metadata": {
    "collapsed": false,
    "slideshow": {
     "slide_type": "fragment"
    }
   },
   "outputs": [
    {
     "data": {
      "text/plain": [
       "<seaborn.axisgrid.FacetGrid at 0x10fdbaa50>"
      ]
     },
     "execution_count": 13,
     "metadata": {},
     "output_type": "execute_result"
    },
    {
     "data": {
      "image/png": "[encoded data removed]",
      "text/plain": [
       "<matplotlib.figure.Figure at 0x10fefdb10>"
      ]
     },
     "metadata": {},
     "output_type": "display_data"
    }
   ],
   "source": [
    "(tidy\n",
    "     .dropna()\n",
    "     .query('team == \"Los Angeles Lakers\"')\n",
    "     .pipe(sns.FacetGrid, col='team', hue='team')\n",
    "     .map(sns.barplot, \"variable\", \"rest\")\n",
    " )"
   ]
  },
  {
   "cell_type": "code",
   "execution_count": 17,
   "metadata": {
    "collapsed": false,
    "slideshow": {
     "slide_type": "fragment"
    }
   },
   "outputs": [
    {
     "data": {
      "text/plain": [
       "variable\n",
       "away_team    0.195122\n",
       "home_team    1.175000\n",
       "Name: rest, dtype: float64"
      ]
     },
     "execution_count": 17,
     "metadata": {},
     "output_type": "execute_result"
    }
   ],
   "source": [
    "g = (tidy\n",
    "        .dropna()\n",
    "        .query('team == \"Los Angeles Lakers\"')\n",
    "        .groupby('variable')\n",
    "     )\n",
    "g.rest.sum()/g.rest.count()"
   ]
  },
  {
   "cell_type": "markdown",
   "metadata": {
    "collapsed": true,
    "slideshow": {
     "slide_type": "slide"
    }
   },
   "source": [
    "# Stack / Unstack"
   ]
  },
  {
   "cell_type": "markdown",
   "metadata": {},
   "source": [
    "An \"observation\" depends on the question. Home team advantage?"
   ]
  },
  {
   "cell_type": "code",
   "execution_count": 18,
   "metadata": {
    "collapsed": false
   },
   "outputs": [
    {
     "name": "stdout",
     "output_type": "stream",
     "text": [
      "('Home win percent:', 0.57200647249190939)\n"
     ]
    },
    {
     "data": {
      "image/png": "[encoded data removed]",
      "text/plain": [
       "<matplotlib.figure.Figure at 0x110655e50>"
      ]
     },
     "metadata": {},
     "output_type": "display_data"
    }
   ],
   "source": [
    "home_adv = games.home_points - games.away_points\n",
    "ax = (home_adv).plot(kind='hist', bins=80, figsize=(10, 5))\n",
    "ax.set_xlim(-40, 40)\n",
    "mu = home_adv.mean()\n",
    "ax.vlines(mu, *ax.get_ylim(), color='red', linewidth=3)\n",
    "print('Home win percent:', (home_adv > 0).mean())"
   ]
  },
  {
   "cell_type": "markdown",
   "metadata": {
    "slideshow": {
     "slide_type": "slide"
    }
   },
   "source": [
    "# Team Strength\n",
    "\n",
    "### Mini Project: Home Court Advantage?\n",
    "\n",
    "What's the effect (in terms of probability to win) of being\n",
    "the home team.\n"
   ]
  },
  {
   "cell_type": "markdown",
   "metadata": {},
   "source": [
    "### Step 1. Calculate Win %\n",
    "\n",
    "We need to create an indicator for whether the home team won.\n",
    "Add it as a column called `home_win` in `games`."
   ]
  },
  {
   "cell_type": "code",
   "execution_count": 19,
   "metadata": {
    "collapsed": false,
    "slideshow": {
     "slide_type": "subslide"
    }
   },
   "outputs": [
    {
     "data": {
      "text/html": [
       "<div>\n",
       "<table border=\"1\" class=\"dataframe\">\n",
       "  <thead>\n",
       "    <tr style=\"text-align: right;\">\n",
       "      <th></th>\n",
       "      <th></th>\n",
       "      <th>away_team</th>\n",
       "      <th>away_points</th>\n",
       "      <th>home_team</th>\n",
       "      <th>home_points</th>\n",
       "      <th>home_win</th>\n",
       "    </tr>\n",
       "    <tr>\n",
       "      <th>game_id</th>\n",
       "      <th>date</th>\n",
       "      <th></th>\n",
       "      <th></th>\n",
       "      <th></th>\n",
       "      <th></th>\n",
       "      <th></th>\n",
       "    </tr>\n",
       "  </thead>\n",
       "  <tbody>\n",
       "    <tr>\n",
       "      <th>0</th>\n",
       "      <th>2014-10-28 22:30:00</th>\n",
       "      <td>Houston Rockets</td>\n",
       "      <td>108</td>\n",
       "      <td>Los Angeles Lakers</td>\n",
       "      <td>90</td>\n",
       "      <td>False</td>\n",
       "    </tr>\n",
       "    <tr>\n",
       "      <th>1</th>\n",
       "      <th>2014-10-28 20:00:00</th>\n",
       "      <td>Orlando Magic</td>\n",
       "      <td>84</td>\n",
       "      <td>New Orleans Pelicans</td>\n",
       "      <td>101</td>\n",
       "      <td>True</td>\n",
       "    </tr>\n",
       "    <tr>\n",
       "      <th>2</th>\n",
       "      <th>2014-10-28 20:00:00</th>\n",
       "      <td>Dallas Mavericks</td>\n",
       "      <td>100</td>\n",
       "      <td>San Antonio Spurs</td>\n",
       "      <td>101</td>\n",
       "      <td>True</td>\n",
       "    </tr>\n",
       "    <tr>\n",
       "      <th>3</th>\n",
       "      <th>2014-10-29 19:30:00</th>\n",
       "      <td>Brooklyn Nets</td>\n",
       "      <td>105</td>\n",
       "      <td>Boston Celtics</td>\n",
       "      <td>121</td>\n",
       "      <td>True</td>\n",
       "    </tr>\n",
       "    <tr>\n",
       "      <th>4</th>\n",
       "      <th>2014-10-29 19:00:00</th>\n",
       "      <td>Milwaukee Bucks</td>\n",
       "      <td>106</td>\n",
       "      <td>Charlotte Hornets</td>\n",
       "      <td>108</td>\n",
       "      <td>True</td>\n",
       "    </tr>\n",
       "  </tbody>\n",
       "</table>\n",
       "</div>"
      ],
      "text/plain": [
       "                                    away_team  away_points             home_team  home_points home_win\n",
       "game_id date                                                                                          \n",
       "0       2014-10-28 22:30:00   Houston Rockets          108    Los Angeles Lakers           90    False\n",
       "1       2014-10-28 20:00:00     Orlando Magic           84  New Orleans Pelicans          101     True\n",
       "2       2014-10-28 20:00:00  Dallas Mavericks          100     San Antonio Spurs          101     True\n",
       "3       2014-10-29 19:30:00     Brooklyn Nets          105        Boston Celtics          121     True\n",
       "4       2014-10-29 19:00:00   Milwaukee Bucks          106     Charlotte Hornets          108     True"
      ]
     },
     "execution_count": 19,
     "metadata": {},
     "output_type": "execute_result"
    }
   ],
   "source": [
    "games['home_win'] = games['home_points'] > games['away_points']\n",
    "games.head()"
   ]
  },
  {
   "cell_type": "markdown",
   "metadata": {
    "slideshow": {
     "slide_type": "slide"
    }
   },
   "source": [
    "### Step 2: Find the win percent for each team\n",
    "\n",
    "Teams are split across two columns. It's easiest to calculate the number of wins and number of games as away, and the number of wins and number of games as home. Then combine those two results to get the win percent."
   ]
  },
  {
   "cell_type": "code",
   "execution_count": 20,
   "metadata": {
    "collapsed": false,
    "slideshow": {
     "slide_type": "subslide"
    }
   },
   "outputs": [
    {
     "data": {
      "text/html": [
       "<div>\n",
       "<table border=\"1\" class=\"dataframe\">\n",
       "  <thead>\n",
       "    <tr style=\"text-align: right;\">\n",
       "      <th></th>\n",
       "      <th>n_games</th>\n",
       "      <th>n_wins</th>\n",
       "    </tr>\n",
       "    <tr>\n",
       "      <th>away_team</th>\n",
       "      <th></th>\n",
       "      <th></th>\n",
       "    </tr>\n",
       "  </thead>\n",
       "  <tbody>\n",
       "    <tr>\n",
       "      <th>Atlanta Hawks</th>\n",
       "      <td>82</td>\n",
       "      <td>60</td>\n",
       "    </tr>\n",
       "    <tr>\n",
       "      <th>Boston Celtics</th>\n",
       "      <td>82</td>\n",
       "      <td>40</td>\n",
       "    </tr>\n",
       "    <tr>\n",
       "      <th>Brooklyn Nets</th>\n",
       "      <td>82</td>\n",
       "      <td>38</td>\n",
       "    </tr>\n",
       "    <tr>\n",
       "      <th>...</th>\n",
       "      <td>...</td>\n",
       "      <td>...</td>\n",
       "    </tr>\n",
       "    <tr>\n",
       "      <th>Toronto Raptors</th>\n",
       "      <td>82</td>\n",
       "      <td>49</td>\n",
       "    </tr>\n",
       "    <tr>\n",
       "      <th>Utah Jazz</th>\n",
       "      <td>82</td>\n",
       "      <td>38</td>\n",
       "    </tr>\n",
       "    <tr>\n",
       "      <th>Washington Wizards</th>\n",
       "      <td>82</td>\n",
       "      <td>46</td>\n",
       "    </tr>\n",
       "  </tbody>\n",
       "</table>\n",
       "<p>30 rows × 2 columns</p>\n",
       "</div>"
      ],
      "text/plain": [
       "                    n_games  n_wins\n",
       "away_team                          \n",
       "Atlanta Hawks            82      60\n",
       "Boston Celtics           82      40\n",
       "Brooklyn Nets            82      38\n",
       "...                     ...     ...\n",
       "Toronto Raptors          82      49\n",
       "Utah Jazz                82      38\n",
       "Washington Wizards       82      46\n",
       "\n",
       "[30 rows x 2 columns]"
      ]
     },
     "execution_count": 20,
     "metadata": {},
     "output_type": "execute_result"
    }
   ],
   "source": [
    "wins_as_away = games.groupby('away_team').home_win.agg(\n",
    "    {'n_games': 'count', 'n_wins': lambda x: (~x).sum()}\n",
    ")\n",
    "wins_as_home = games.groupby('home_team').home_win.agg(\n",
    "    {'n_games': 'count', 'n_wins': 'sum'}\n",
    ")\n",
    "wins = (wins_as_away + wins_as_home)\n",
    "wins"
   ]
  },
  {
   "cell_type": "markdown",
   "metadata": {
    "slideshow": {
     "slide_type": "subslide"
    }
   },
   "source": [
    "Finally, calculate the win percent."
   ]
  },
  {
   "cell_type": "code",
   "execution_count": 21,
   "metadata": {
    "collapsed": false,
    "slideshow": {
     "slide_type": "fragment"
    }
   },
   "outputs": [
    {
     "data": {
      "text/plain": [
       "team\n",
       "Atlanta Hawks         0.731707\n",
       "Boston Celtics        0.487805\n",
       "Brooklyn Nets         0.463415\n",
       "                        ...   \n",
       "Toronto Raptors       0.597561\n",
       "Utah Jazz             0.463415\n",
       "Washington Wizards    0.560976\n",
       "Name: strength, dtype: float64"
      ]
     },
     "execution_count": 21,
     "metadata": {},
     "output_type": "execute_result"
    }
   ],
   "source": [
    "strength = wins.n_wins / wins.n_games\n",
    "strength.index.name = 'team'\n",
    "strength.name = 'strength'\n",
    "strength"
   ]
  },
  {
   "cell_type": "code",
   "execution_count": 22,
   "metadata": {
    "collapsed": false,
    "slideshow": {
     "slide_type": "subslide"
    }
   },
   "outputs": [
    {
     "data": {
      "text/plain": [
       "<matplotlib.axes._subplots.AxesSubplot at 0x1106f1110>"
      ]
     },
     "execution_count": 22,
     "metadata": {},
     "output_type": "execute_result"
    },
    {
     "data": {
      "image/png": "[encoded data removed]",
      "text/plain": [
       "<matplotlib.figure.Figure at 0x11078d350>"
      ]
     },
     "metadata": {},
     "output_type": "display_data"
    }
   ],
   "source": [
    "strength.sort_values().plot.barh(figsize=(4,8))"
   ]
  },
  {
   "cell_type": "markdown",
   "metadata": {
    "slideshow": {
     "slide_type": "subslide"
    }
   },
   "source": [
    "Bring the `strength` values in for each team, for each game."
   ]
  },
  {
   "cell_type": "markdown",
   "metadata": {
    "slideshow": {
     "slide_type": "fragment"
    }
   },
   "source": [
    "For SQL people\n",
    "\n",
    "```sql\n",
    "SELECT *\n",
    "FROM games NATURAL JOIN strength\n",
    "```\n",
    "\n",
    "We just need to get the names worked out."
   ]
  },
  {
   "cell_type": "code",
   "execution_count": 23,
   "metadata": {
    "collapsed": false,
    "slideshow": {
     "slide_type": "subslide"
    }
   },
   "outputs": [
    {
     "data": {
      "text/html": [
       "<div>\n",
       "<table border=\"1\" class=\"dataframe\">\n",
       "  <thead>\n",
       "    <tr style=\"text-align: right;\">\n",
       "      <th></th>\n",
       "      <th>away_team</th>\n",
       "      <th>away_strength</th>\n",
       "    </tr>\n",
       "  </thead>\n",
       "  <tbody>\n",
       "    <tr>\n",
       "      <th>0</th>\n",
       "      <td>Atlanta Hawks</td>\n",
       "      <td>0.731707</td>\n",
       "    </tr>\n",
       "    <tr>\n",
       "      <th>1</th>\n",
       "      <td>Boston Celtics</td>\n",
       "      <td>0.487805</td>\n",
       "    </tr>\n",
       "    <tr>\n",
       "      <th>2</th>\n",
       "      <td>Brooklyn Nets</td>\n",
       "      <td>0.463415</td>\n",
       "    </tr>\n",
       "    <tr>\n",
       "      <th>3</th>\n",
       "      <td>Charlotte Hornets</td>\n",
       "      <td>0.402439</td>\n",
       "    </tr>\n",
       "    <tr>\n",
       "      <th>4</th>\n",
       "      <td>Chicago Bulls</td>\n",
       "      <td>0.609756</td>\n",
       "    </tr>\n",
       "  </tbody>\n",
       "</table>\n",
       "</div>"
      ],
      "text/plain": [
       "           away_team  away_strength\n",
       "0      Atlanta Hawks       0.731707\n",
       "1     Boston Celtics       0.487805\n",
       "2      Brooklyn Nets       0.463415\n",
       "3  Charlotte Hornets       0.402439\n",
       "4      Chicago Bulls       0.609756"
      ]
     },
     "execution_count": 23,
     "metadata": {},
     "output_type": "execute_result"
    }
   ],
   "source": [
    "strength.head().reset_index().rename(columns=lambda x: 'away_' + x)"
   ]
  },
  {
   "cell_type": "code",
   "execution_count": 24,
   "metadata": {
    "collapsed": false,
    "slideshow": {
     "slide_type": "subslide"
    }
   },
   "outputs": [
    {
     "data": {
      "text/html": [
       "<div>\n",
       "<table border=\"1\" class=\"dataframe\">\n",
       "  <thead>\n",
       "    <tr style=\"text-align: right;\">\n",
       "      <th></th>\n",
       "      <th></th>\n",
       "      <th>away_team</th>\n",
       "      <th>away_points</th>\n",
       "      <th>home_team</th>\n",
       "      <th>...</th>\n",
       "      <th>home_win</th>\n",
       "      <th>away_strength</th>\n",
       "      <th>home_strength</th>\n",
       "    </tr>\n",
       "    <tr>\n",
       "      <th>game_id</th>\n",
       "      <th>date</th>\n",
       "      <th></th>\n",
       "      <th></th>\n",
       "      <th></th>\n",
       "      <th></th>\n",
       "      <th></th>\n",
       "      <th></th>\n",
       "      <th></th>\n",
       "    </tr>\n",
       "  </thead>\n",
       "  <tbody>\n",
       "    <tr>\n",
       "      <th>0</th>\n",
       "      <th>2014-10-28 22:30:00</th>\n",
       "      <td>Houston Rockets</td>\n",
       "      <td>108</td>\n",
       "      <td>Los Angeles Lakers</td>\n",
       "      <td>...</td>\n",
       "      <td>False</td>\n",
       "      <td>0.682927</td>\n",
       "      <td>0.256098</td>\n",
       "    </tr>\n",
       "    <tr>\n",
       "      <th>664</th>\n",
       "      <th>2015-01-25 21:30:00</th>\n",
       "      <td>Houston Rockets</td>\n",
       "      <td>99</td>\n",
       "      <td>Los Angeles Lakers</td>\n",
       "      <td>...</td>\n",
       "      <td>False</td>\n",
       "      <td>0.682927</td>\n",
       "      <td>0.256098</td>\n",
       "    </tr>\n",
       "    <tr>\n",
       "      <th>544</th>\n",
       "      <th>2015-01-09 22:30:00</th>\n",
       "      <td>Orlando Magic</td>\n",
       "      <td>84</td>\n",
       "      <td>Los Angeles Lakers</td>\n",
       "      <td>...</td>\n",
       "      <td>True</td>\n",
       "      <td>0.304878</td>\n",
       "      <td>0.256098</td>\n",
       "    </tr>\n",
       "    <tr>\n",
       "      <th>...</th>\n",
       "      <th>...</th>\n",
       "      <td>...</td>\n",
       "      <td>...</td>\n",
       "      <td>...</td>\n",
       "      <td>...</td>\n",
       "      <td>...</td>\n",
       "      <td>...</td>\n",
       "      <td>...</td>\n",
       "    </tr>\n",
       "    <tr>\n",
       "      <th>478</th>\n",
       "      <th>2014-12-31 19:00:00</th>\n",
       "      <td>Charlotte Hornets</td>\n",
       "      <td>83</td>\n",
       "      <td>Houston Rockets</td>\n",
       "      <td>...</td>\n",
       "      <td>True</td>\n",
       "      <td>0.402439</td>\n",
       "      <td>0.682927</td>\n",
       "    </tr>\n",
       "    <tr>\n",
       "      <th>382</th>\n",
       "      <th>2014-12-18 20:30:00</th>\n",
       "      <td>New Orleans Pelicans</td>\n",
       "      <td>99</td>\n",
       "      <td>Houston Rockets</td>\n",
       "      <td>...</td>\n",
       "      <td>False</td>\n",
       "      <td>0.548780</td>\n",
       "      <td>0.682927</td>\n",
       "    </tr>\n",
       "    <tr>\n",
       "      <th>1201</th>\n",
       "      <th>2015-04-12 19:00:00</th>\n",
       "      <td>New Orleans Pelicans</td>\n",
       "      <td>114</td>\n",
       "      <td>Houston Rockets</td>\n",
       "      <td>...</td>\n",
       "      <td>True</td>\n",
       "      <td>0.548780</td>\n",
       "      <td>0.682927</td>\n",
       "    </tr>\n",
       "  </tbody>\n",
       "</table>\n",
       "<p>1230 rows × 7 columns</p>\n",
       "</div>"
      ],
      "text/plain": [
       "                                        away_team  away_points           home_team      ...        home_win away_strength  home_strength\n",
       "game_id date                                                                            ...                                             \n",
       "0       2014-10-28 22:30:00       Houston Rockets          108  Los Angeles Lakers      ...           False      0.682927       0.256098\n",
       "664     2015-01-25 21:30:00       Houston Rockets           99  Los Angeles Lakers      ...           False      0.682927       0.256098\n",
       "544     2015-01-09 22:30:00         Orlando Magic           84  Los Angeles Lakers      ...            True      0.304878       0.256098\n",
       "...                                           ...          ...                 ...      ...             ...           ...            ...\n",
       "478     2014-12-31 19:00:00     Charlotte Hornets           83     Houston Rockets      ...            True      0.402439       0.682927\n",
       "382     2014-12-18 20:30:00  New Orleans Pelicans           99     Houston Rockets      ...           False      0.548780       0.682927\n",
       "1201    2015-04-12 19:00:00  New Orleans Pelicans          114     Houston Rockets      ...            True      0.548780       0.682927\n",
       "\n",
       "[1230 rows x 7 columns]"
      ]
     },
     "execution_count": 24,
     "metadata": {},
     "output_type": "execute_result"
    }
   ],
   "source": [
    "(pd.merge(games.reset_index(), strength.reset_index().add_prefix('away_'))\n",
    "   .pipe(pd.merge, strength.reset_index().add_prefix('home_'))\n",
    "   .set_index(['game_id', 'date']))"
   ]
  },
  {
   "cell_type": "markdown",
   "metadata": {
    "slideshow": {
     "slide_type": "subslide"
    }
   },
   "source": [
    "For python people"
   ]
  },
  {
   "cell_type": "code",
   "execution_count": 25,
   "metadata": {
    "collapsed": false,
    "slideshow": {
     "slide_type": "fragment"
    }
   },
   "outputs": [
    {
     "data": {
      "text/html": [
       "<div>\n",
       "<table border=\"1\" class=\"dataframe\">\n",
       "  <thead>\n",
       "    <tr style=\"text-align: right;\">\n",
       "      <th></th>\n",
       "      <th></th>\n",
       "      <th>away_team</th>\n",
       "      <th>away_points</th>\n",
       "      <th>home_team</th>\n",
       "      <th>...</th>\n",
       "      <th>home_win</th>\n",
       "      <th>away_strength</th>\n",
       "      <th>home_strength</th>\n",
       "    </tr>\n",
       "    <tr>\n",
       "      <th>game_id</th>\n",
       "      <th>date</th>\n",
       "      <th></th>\n",
       "      <th></th>\n",
       "      <th></th>\n",
       "      <th></th>\n",
       "      <th></th>\n",
       "      <th></th>\n",
       "      <th></th>\n",
       "    </tr>\n",
       "  </thead>\n",
       "  <tbody>\n",
       "    <tr>\n",
       "      <th>0</th>\n",
       "      <th>2014-10-28 22:30:00</th>\n",
       "      <td>Houston Rockets</td>\n",
       "      <td>108</td>\n",
       "      <td>Los Angeles Lakers</td>\n",
       "      <td>...</td>\n",
       "      <td>False</td>\n",
       "      <td>0.682927</td>\n",
       "      <td>0.256098</td>\n",
       "    </tr>\n",
       "    <tr>\n",
       "      <th>1</th>\n",
       "      <th>2014-10-28 20:00:00</th>\n",
       "      <td>Orlando Magic</td>\n",
       "      <td>84</td>\n",
       "      <td>New Orleans Pelicans</td>\n",
       "      <td>...</td>\n",
       "      <td>True</td>\n",
       "      <td>0.304878</td>\n",
       "      <td>0.548780</td>\n",
       "    </tr>\n",
       "    <tr>\n",
       "      <th>2</th>\n",
       "      <th>2014-10-28 20:00:00</th>\n",
       "      <td>Dallas Mavericks</td>\n",
       "      <td>100</td>\n",
       "      <td>San Antonio Spurs</td>\n",
       "      <td>...</td>\n",
       "      <td>True</td>\n",
       "      <td>0.609756</td>\n",
       "      <td>0.670732</td>\n",
       "    </tr>\n",
       "    <tr>\n",
       "      <th>3</th>\n",
       "      <th>2014-10-29 19:30:00</th>\n",
       "      <td>Brooklyn Nets</td>\n",
       "      <td>105</td>\n",
       "      <td>Boston Celtics</td>\n",
       "      <td>...</td>\n",
       "      <td>True</td>\n",
       "      <td>0.463415</td>\n",
       "      <td>0.487805</td>\n",
       "    </tr>\n",
       "    <tr>\n",
       "      <th>4</th>\n",
       "      <th>2014-10-29 19:00:00</th>\n",
       "      <td>Milwaukee Bucks</td>\n",
       "      <td>106</td>\n",
       "      <td>Charlotte Hornets</td>\n",
       "      <td>...</td>\n",
       "      <td>True</td>\n",
       "      <td>0.500000</td>\n",
       "      <td>0.402439</td>\n",
       "    </tr>\n",
       "  </tbody>\n",
       "</table>\n",
       "<p>5 rows × 7 columns</p>\n",
       "</div>"
      ],
      "text/plain": [
       "                                    away_team  away_points             home_team      ...        home_win away_strength  home_strength\n",
       "game_id date                                                                          ...                                             \n",
       "0       2014-10-28 22:30:00   Houston Rockets          108    Los Angeles Lakers      ...           False      0.682927       0.256098\n",
       "1       2014-10-28 20:00:00     Orlando Magic           84  New Orleans Pelicans      ...            True      0.304878       0.548780\n",
       "2       2014-10-28 20:00:00  Dallas Mavericks          100     San Antonio Spurs      ...            True      0.609756       0.670732\n",
       "3       2014-10-29 19:30:00     Brooklyn Nets          105        Boston Celtics      ...            True      0.463415       0.487805\n",
       "4       2014-10-29 19:00:00   Milwaukee Bucks          106     Charlotte Hornets      ...            True      0.500000       0.402439\n",
       "\n",
       "[5 rows x 7 columns]"
      ]
     },
     "execution_count": 25,
     "metadata": {},
     "output_type": "execute_result"
    }
   ],
   "source": [
    "games = games.assign(away_strength=games.away_team.map(strength),\n",
    "                     home_strength=games.home_team.map(strength))\n",
    "games.head()"
   ]
  },
  {
   "cell_type": "markdown",
   "metadata": {
    "slideshow": {
     "slide_type": "slide"
    }
   },
   "source": [
    "# Pivoting"
   ]
  },
  {
   "cell_type": "code",
   "execution_count": 26,
   "metadata": {
    "collapsed": false
   },
   "outputs": [
    {
     "data": {
      "text/html": [
       "<div>\n",
       "<table border=\"1\" class=\"dataframe\">\n",
       "  <thead>\n",
       "    <tr style=\"text-align: right;\">\n",
       "      <th></th>\n",
       "      <th>game_id</th>\n",
       "      <th>date</th>\n",
       "      <th>variable</th>\n",
       "      <th>team</th>\n",
       "      <th>rest</th>\n",
       "    </tr>\n",
       "  </thead>\n",
       "  <tbody>\n",
       "    <tr>\n",
       "      <th>0</th>\n",
       "      <td>0</td>\n",
       "      <td>2014-10-28 22:30:00</td>\n",
       "      <td>away_team</td>\n",
       "      <td>Houston Rockets</td>\n",
       "      <td>NaN</td>\n",
       "    </tr>\n",
       "    <tr>\n",
       "      <th>1</th>\n",
       "      <td>1</td>\n",
       "      <td>2014-10-28 20:00:00</td>\n",
       "      <td>away_team</td>\n",
       "      <td>Orlando Magic</td>\n",
       "      <td>NaN</td>\n",
       "    </tr>\n",
       "    <tr>\n",
       "      <th>2</th>\n",
       "      <td>2</td>\n",
       "      <td>2014-10-28 20:00:00</td>\n",
       "      <td>away_team</td>\n",
       "      <td>Dallas Mavericks</td>\n",
       "      <td>NaN</td>\n",
       "    </tr>\n",
       "    <tr>\n",
       "      <th>...</th>\n",
       "      <td>...</td>\n",
       "      <td>...</td>\n",
       "      <td>...</td>\n",
       "      <td>...</td>\n",
       "      <td>...</td>\n",
       "    </tr>\n",
       "    <tr>\n",
       "      <th>2469</th>\n",
       "      <td>1233</td>\n",
       "      <td>2015-04-15 20:00:00</td>\n",
       "      <td>home_team</td>\n",
       "      <td>New York Knicks</td>\n",
       "      <td>1</td>\n",
       "    </tr>\n",
       "    <tr>\n",
       "      <th>2470</th>\n",
       "      <td>1234</td>\n",
       "      <td>2015-04-15 20:00:00</td>\n",
       "      <td>home_team</td>\n",
       "      <td>Philadelphia 76ers</td>\n",
       "      <td>1</td>\n",
       "    </tr>\n",
       "    <tr>\n",
       "      <th>2471</th>\n",
       "      <td>1235</td>\n",
       "      <td>2015-04-15 19:00:00</td>\n",
       "      <td>home_team</td>\n",
       "      <td>Toronto Raptors</td>\n",
       "      <td>-1</td>\n",
       "    </tr>\n",
       "  </tbody>\n",
       "</table>\n",
       "<p>2472 rows × 5 columns</p>\n",
       "</div>"
      ],
      "text/plain": [
       "      game_id                date   variable                team  rest\n",
       "0           0 2014-10-28 22:30:00  away_team     Houston Rockets   NaN\n",
       "1           1 2014-10-28 20:00:00  away_team       Orlando Magic   NaN\n",
       "2           2 2014-10-28 20:00:00  away_team    Dallas Mavericks   NaN\n",
       "...       ...                 ...        ...                 ...   ...\n",
       "2469     1233 2015-04-15 20:00:00  home_team     New York Knicks     1\n",
       "2470     1234 2015-04-15 20:00:00  home_team  Philadelphia 76ers     1\n",
       "2471     1235 2015-04-15 19:00:00  home_team     Toronto Raptors    -1\n",
       "\n",
       "[2472 rows x 5 columns]"
      ]
     },
     "execution_count": 26,
     "metadata": {},
     "output_type": "execute_result"
    }
   ],
   "source": [
    "tidy"
   ]
  },
  {
   "cell_type": "code",
   "execution_count": 67,
   "metadata": {
    "collapsed": false,
    "slideshow": {
     "slide_type": "subslide"
    }
   },
   "outputs": [
    {
     "data": {
      "text/html": [
       "<div>\n",
       "<table border=\"1\" class=\"dataframe\">\n",
       "  <thead>\n",
       "    <tr style=\"text-align: right;\">\n",
       "      <th>team</th>\n",
       "      <th>Atlanta Hawks</th>\n",
       "      <th>Boston Celtics</th>\n",
       "      <th>Brooklyn Nets</th>\n",
       "      <th>...</th>\n",
       "      <th>Toronto Raptors</th>\n",
       "      <th>Utah Jazz</th>\n",
       "      <th>Washington Wizards</th>\n",
       "    </tr>\n",
       "    <tr>\n",
       "      <th>variable</th>\n",
       "      <th></th>\n",
       "      <th></th>\n",
       "      <th></th>\n",
       "      <th></th>\n",
       "      <th></th>\n",
       "      <th></th>\n",
       "      <th></th>\n",
       "    </tr>\n",
       "  </thead>\n",
       "  <tbody>\n",
       "    <tr>\n",
       "      <th>away_team</th>\n",
       "      <td>0.500000</td>\n",
       "      <td>0.634146</td>\n",
       "      <td>0.750000</td>\n",
       "      <td>...</td>\n",
       "      <td>0.707317</td>\n",
       "      <td>0.463415</td>\n",
       "      <td>0.400000</td>\n",
       "    </tr>\n",
       "    <tr>\n",
       "      <th>home_team</th>\n",
       "      <td>1.097561</td>\n",
       "      <td>0.775000</td>\n",
       "      <td>0.707317</td>\n",
       "      <td>...</td>\n",
       "      <td>0.800000</td>\n",
       "      <td>1.100000</td>\n",
       "      <td>1.097561</td>\n",
       "    </tr>\n",
       "  </tbody>\n",
       "</table>\n",
       "<p>2 rows × 30 columns</p>\n",
       "</div>"
      ],
      "text/plain": [
       "team       Atlanta Hawks  Boston Celtics  Brooklyn Nets         ...          Toronto Raptors  Utah Jazz  Washington Wizards\n",
       "variable                                                        ...                                                        \n",
       "away_team       0.500000        0.634146       0.750000         ...                 0.707317   0.463415            0.400000\n",
       "home_team       1.097561        0.775000       0.707317         ...                 0.800000   1.100000            1.097561\n",
       "\n",
       "[2 rows x 30 columns]"
      ]
     },
     "execution_count": 67,
     "metadata": {},
     "output_type": "execute_result"
    }
   ],
   "source": [
    "# summarizing pivot\n",
    "\n",
    "un = (pd.pivot_table(tidy,\n",
    "                     values='rest',\n",
    "                     index='variable',\n",
    "                     columns='team')\n",
    ")\n",
    "un"
   ]
  },
  {
   "cell_type": "code",
   "execution_count": 82,
   "metadata": {
    "collapsed": false,
    "slideshow": {
     "slide_type": "fragment"
    }
   },
   "outputs": [
    {
     "data": {
      "text/html": [
       "<div>\n",
       "<table border=\"1\" class=\"dataframe\">\n",
       "  <thead>\n",
       "    <tr style=\"text-align: right;\">\n",
       "      <th>team</th>\n",
       "      <th>Atlanta Hawks</th>\n",
       "      <th>Boston Celtics</th>\n",
       "      <th>Brooklyn Nets</th>\n",
       "      <th>...</th>\n",
       "      <th>Toronto Raptors</th>\n",
       "      <th>Utah Jazz</th>\n",
       "      <th>Washington Wizards</th>\n",
       "    </tr>\n",
       "    <tr>\n",
       "      <th>variable</th>\n",
       "      <th></th>\n",
       "      <th></th>\n",
       "      <th></th>\n",
       "      <th></th>\n",
       "      <th></th>\n",
       "      <th></th>\n",
       "      <th></th>\n",
       "    </tr>\n",
       "  </thead>\n",
       "  <tbody>\n",
       "    <tr>\n",
       "      <th>away_team</th>\n",
       "      <td>0.500000</td>\n",
       "      <td>0.634146</td>\n",
       "      <td>0.750000</td>\n",
       "      <td>...</td>\n",
       "      <td>0.707317</td>\n",
       "      <td>0.463415</td>\n",
       "      <td>0.400000</td>\n",
       "    </tr>\n",
       "    <tr>\n",
       "      <th>home_team</th>\n",
       "      <td>1.097561</td>\n",
       "      <td>0.775000</td>\n",
       "      <td>0.707317</td>\n",
       "      <td>...</td>\n",
       "      <td>0.800000</td>\n",
       "      <td>1.100000</td>\n",
       "      <td>1.097561</td>\n",
       "    </tr>\n",
       "  </tbody>\n",
       "</table>\n",
       "<p>2 rows × 30 columns</p>\n",
       "</div>"
      ],
      "text/plain": [
       "team       Atlanta Hawks  Boston Celtics  Brooklyn Nets         ...          Toronto Raptors  Utah Jazz  Washington Wizards\n",
       "variable                                                        ...                                                        \n",
       "away_team       0.500000        0.634146       0.750000         ...                 0.707317   0.463415            0.400000\n",
       "home_team       1.097561        0.775000       0.707317         ...                 0.800000   1.100000            1.097561\n",
       "\n",
       "[2 rows x 30 columns]"
      ]
     },
     "execution_count": 82,
     "metadata": {},
     "output_type": "execute_result"
    }
   ],
   "source": [
    "# equivalent\n",
    "tidy.groupby(['team','variable']).rest.mean().unstack('team')"
   ]
  },
  {
   "cell_type": "code",
   "execution_count": 68,
   "metadata": {
    "collapsed": false,
    "slideshow": {
     "slide_type": "subslide"
    }
   },
   "outputs": [],
   "source": [
    "# transformational pivot\n",
    "\n",
    "un = (pd.pivot_table(tidy,\n",
    "                     values='rest',\n",
    "                     index=['game_id','date'],\n",
    "                     columns='variable')\n",
    "        .rename(columns={'away_team': 'away_rest', 'home_team': 'home_rest'})\n",
    ")\n",
    "un.columns.name = None"
   ]
  },
  {
   "cell_type": "code",
   "execution_count": 69,
   "metadata": {
    "collapsed": false,
    "slideshow": {
     "slide_type": "fragment"
    }
   },
   "outputs": [
    {
     "data": {
      "text/html": [
       "<div>\n",
       "<table border=\"1\" class=\"dataframe\">\n",
       "  <thead>\n",
       "    <tr style=\"text-align: right;\">\n",
       "      <th></th>\n",
       "      <th></th>\n",
       "      <th>away_rest</th>\n",
       "      <th>home_rest</th>\n",
       "    </tr>\n",
       "    <tr>\n",
       "      <th>game_id</th>\n",
       "      <th>date</th>\n",
       "      <th></th>\n",
       "      <th></th>\n",
       "    </tr>\n",
       "  </thead>\n",
       "  <tbody>\n",
       "    <tr>\n",
       "      <th>16</th>\n",
       "      <th>2014-10-30 20:30:00</th>\n",
       "      <td>-1</td>\n",
       "      <td>1</td>\n",
       "    </tr>\n",
       "    <tr>\n",
       "      <th>18</th>\n",
       "      <th>2014-10-30 20:00:00</th>\n",
       "      <td>-1</td>\n",
       "      <td>0</td>\n",
       "    </tr>\n",
       "    <tr>\n",
       "      <th>19</th>\n",
       "      <th>2014-10-30 19:00:00</th>\n",
       "      <td>-1</td>\n",
       "      <td>0</td>\n",
       "    </tr>\n",
       "    <tr>\n",
       "      <th>...</th>\n",
       "      <th>...</th>\n",
       "      <td>...</td>\n",
       "      <td>...</td>\n",
       "    </tr>\n",
       "    <tr>\n",
       "      <th>1233</th>\n",
       "      <th>2015-04-15 20:00:00</th>\n",
       "      <td>1</td>\n",
       "      <td>1</td>\n",
       "    </tr>\n",
       "    <tr>\n",
       "      <th>1234</th>\n",
       "      <th>2015-04-15 20:00:00</th>\n",
       "      <td>1</td>\n",
       "      <td>1</td>\n",
       "    </tr>\n",
       "    <tr>\n",
       "      <th>1235</th>\n",
       "      <th>2015-04-15 19:00:00</th>\n",
       "      <td>1</td>\n",
       "      <td>-1</td>\n",
       "    </tr>\n",
       "  </tbody>\n",
       "</table>\n",
       "<p>1213 rows × 2 columns</p>\n",
       "</div>"
      ],
      "text/plain": [
       "                             away_rest  home_rest\n",
       "game_id date                                     \n",
       "16      2014-10-30 20:30:00         -1          1\n",
       "18      2014-10-30 20:00:00         -1          0\n",
       "19      2014-10-30 19:00:00         -1          0\n",
       "...                                ...        ...\n",
       "1233    2015-04-15 20:00:00          1          1\n",
       "1234    2015-04-15 20:00:00          1          1\n",
       "1235    2015-04-15 19:00:00          1         -1\n",
       "\n",
       "[1213 rows x 2 columns]"
      ]
     },
     "execution_count": 69,
     "metadata": {},
     "output_type": "execute_result"
    }
   ],
   "source": [
    "un.dropna()"
   ]
  },
  {
   "cell_type": "code",
   "execution_count": 83,
   "metadata": {
    "collapsed": false,
    "slideshow": {
     "slide_type": "subslide"
    }
   },
   "outputs": [
    {
     "data": {
      "text/html": [
       "<div>\n",
       "<table border=\"1\" class=\"dataframe\">\n",
       "  <thead>\n",
       "    <tr style=\"text-align: right;\">\n",
       "      <th></th>\n",
       "      <th>date</th>\n",
       "      <th>away_team</th>\n",
       "      <th>away_points</th>\n",
       "      <th>...</th>\n",
       "      <th>home_strength</th>\n",
       "      <th>away_rest</th>\n",
       "      <th>home_rest</th>\n",
       "    </tr>\n",
       "    <tr>\n",
       "      <th>game_id</th>\n",
       "      <th></th>\n",
       "      <th></th>\n",
       "      <th></th>\n",
       "      <th></th>\n",
       "      <th></th>\n",
       "      <th></th>\n",
       "      <th></th>\n",
       "    </tr>\n",
       "  </thead>\n",
       "  <tbody>\n",
       "    <tr>\n",
       "      <th>0</th>\n",
       "      <td>2014-10-28 22:30:00</td>\n",
       "      <td>Houston Rockets</td>\n",
       "      <td>108</td>\n",
       "      <td>...</td>\n",
       "      <td>0.256098</td>\n",
       "      <td>NaN</td>\n",
       "      <td>NaN</td>\n",
       "    </tr>\n",
       "    <tr>\n",
       "      <th>1</th>\n",
       "      <td>2014-10-28 20:00:00</td>\n",
       "      <td>Orlando Magic</td>\n",
       "      <td>84</td>\n",
       "      <td>...</td>\n",
       "      <td>0.548780</td>\n",
       "      <td>NaN</td>\n",
       "      <td>NaN</td>\n",
       "    </tr>\n",
       "    <tr>\n",
       "      <th>2</th>\n",
       "      <td>2014-10-28 20:00:00</td>\n",
       "      <td>Dallas Mavericks</td>\n",
       "      <td>100</td>\n",
       "      <td>...</td>\n",
       "      <td>0.670732</td>\n",
       "      <td>NaN</td>\n",
       "      <td>NaN</td>\n",
       "    </tr>\n",
       "    <tr>\n",
       "      <th>...</th>\n",
       "      <td>...</td>\n",
       "      <td>...</td>\n",
       "      <td>...</td>\n",
       "      <td>...</td>\n",
       "      <td>...</td>\n",
       "      <td>...</td>\n",
       "      <td>...</td>\n",
       "    </tr>\n",
       "    <tr>\n",
       "      <th>1233</th>\n",
       "      <td>2015-04-15 20:00:00</td>\n",
       "      <td>Detroit Pistons</td>\n",
       "      <td>112</td>\n",
       "      <td>...</td>\n",
       "      <td>0.207317</td>\n",
       "      <td>1</td>\n",
       "      <td>1</td>\n",
       "    </tr>\n",
       "    <tr>\n",
       "      <th>1234</th>\n",
       "      <td>2015-04-15 20:00:00</td>\n",
       "      <td>Miami Heat</td>\n",
       "      <td>105</td>\n",
       "      <td>...</td>\n",
       "      <td>0.219512</td>\n",
       "      <td>1</td>\n",
       "      <td>1</td>\n",
       "    </tr>\n",
       "    <tr>\n",
       "      <th>1235</th>\n",
       "      <td>2015-04-15 19:00:00</td>\n",
       "      <td>Charlotte Hornets</td>\n",
       "      <td>87</td>\n",
       "      <td>...</td>\n",
       "      <td>0.597561</td>\n",
       "      <td>1</td>\n",
       "      <td>-1</td>\n",
       "    </tr>\n",
       "  </tbody>\n",
       "</table>\n",
       "<p>1236 rows × 10 columns</p>\n",
       "</div>"
      ],
      "text/plain": [
       "                       date          away_team  away_points    ...    home_strength  away_rest home_rest\n",
       "game_id                                                        ...                                      \n",
       "0       2014-10-28 22:30:00    Houston Rockets          108    ...         0.256098        NaN       NaN\n",
       "1       2014-10-28 20:00:00      Orlando Magic           84    ...         0.548780        NaN       NaN\n",
       "2       2014-10-28 20:00:00   Dallas Mavericks          100    ...         0.670732        NaN       NaN\n",
       "...                     ...                ...          ...    ...              ...        ...       ...\n",
       "1233    2015-04-15 20:00:00    Detroit Pistons          112    ...         0.207317          1         1\n",
       "1234    2015-04-15 20:00:00         Miami Heat          105    ...         0.219512          1         1\n",
       "1235    2015-04-15 19:00:00  Charlotte Hornets           87    ...         0.597561          1        -1\n",
       "\n",
       "[1236 rows x 10 columns]"
      ]
     },
     "execution_count": 83,
     "metadata": {},
     "output_type": "execute_result"
    }
   ],
   "source": [
    "# glue\n",
    "res = pd.concat([games, un], axis=1).reset_index('date')\n",
    "res"
   ]
  },
  {
   "cell_type": "code",
   "execution_count": 84,
   "metadata": {
    "collapsed": false,
    "slideshow": {
     "slide_type": "subslide"
    }
   },
   "outputs": [],
   "source": [
    "res.to_hdf('data/games.hdf','df',mode='w',format='table')"
   ]
  }
 ],
 "metadata": {
  "celltoolbar": "Slideshow",
  "kernelspec": {
   "display_name": "Python 2",
   "language": "python",
   "name": "python2"
  },
  "language_info": {
   "codemirror_mode": {
    "name": "ipython",
    "version": 2
   },
   "file_extension": ".py",
   "mimetype": "text/x-python",
   "name": "python",
   "nbconvert_exporter": "python",
   "pygments_lexer": "ipython2",
   "version": "2.7.10"
  }
 },
 "nbformat": 4,
 "nbformat_minor": 0
}
