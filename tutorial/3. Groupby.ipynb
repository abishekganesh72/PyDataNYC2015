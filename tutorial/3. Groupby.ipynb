{
 "cells": [
  {
   "cell_type": "markdown",
   "metadata": {
    "slideshow": {
     "slide_type": "slide"
    }
   },
   "source": [
    "# Grouping"
   ]
  },
  {
   "cell_type": "code",
   "execution_count": 12,
   "metadata": {
    "collapsed": false,
    "slideshow": {
     "slide_type": "subslide"
    }
   },
   "outputs": [],
   "source": [
    "import numpy as np\n",
    "import pandas as pd\n",
    "import seaborn as sns\n",
    "import matplotlib.pyplot as plt\n",
    "%matplotlib inline\n",
    "\n",
    "pd.options.display.max_rows = 6\n",
    "pd.options.display.max_columns = 6\n",
    "pd.options.display.width = 80\n",
    "plt.rcParams['figure.figsize'] = (14, 8)"
   ]
  },
  {
   "cell_type": "markdown",
   "metadata": {
    "slideshow": {
     "slide_type": "slide"
    }
   },
   "source": [
    "We'll use the same dataset of beer reviews."
   ]
  },
  {
   "cell_type": "code",
   "execution_count": 13,
   "metadata": {
    "collapsed": false
   },
   "outputs": [],
   "source": [
    "df = pd.read_hdf('data/beer.hdf')"
   ]
  },
  {
   "cell_type": "code",
   "execution_count": 14,
   "metadata": {
    "collapsed": true,
    "slideshow": {
     "slide_type": "fragment"
    }
   },
   "outputs": [],
   "source": [
    "# new in 0.17.0\n",
    "# .plot.hist\n",
    "\n",
    "# previously\n",
    "# .plot(kind='hist')"
   ]
  },
  {
   "cell_type": "code",
   "execution_count": 15,
   "metadata": {
    "collapsed": false,
    "slideshow": {
     "slide_type": "subslide"
    }
   },
   "outputs": [
    {
     "data": {
      "text/plain": [
       "<matplotlib.axes._subplots.AxesSubplot at 0x1295faad0>"
      ]
     },
     "execution_count": 15,
     "metadata": {},
     "output_type": "execute_result"
    },
    {
     "data": {
      "image/png": "[encoded data removed]",
      "text/plain": [
       "<matplotlib.figure.Figure at 0x11ffd1d90>"
      ]
     },
     "metadata": {},
     "output_type": "display_data"
    }
   ],
   "source": [
    "(df\n",
    "   .brewer_id\n",
    "   .value_counts()\n",
    "   .plot\n",
    "   .hist(bins=25, log=True, title='Log reviews per brewer')\n",
    " )"
   ]
  },
  {
   "cell_type": "code",
   "execution_count": 16,
   "metadata": {
    "collapsed": false,
    "slideshow": {
     "slide_type": "subslide"
    }
   },
   "outputs": [
    {
     "data": {
      "text/plain": [
       "<matplotlib.axes._subplots.AxesSubplot at 0x12a00da90>"
      ]
     },
     "execution_count": 16,
     "metadata": {},
     "output_type": "execute_result"
    },
    {
     "data": {
      "image/png": "[encoded data removed]",
      "text/plain": [
       "<matplotlib.figure.Figure at 0x120f7e750>"
      ]
     },
     "metadata": {},
     "output_type": "display_data"
    }
   ],
   "source": [
    "(df.review_overall\n",
    "   .value_counts()\n",
    "   .sort_index()\n",
    "   .plot\n",
    "   .bar(width=.8, rot=0)\n",
    ")"
   ]
  },
  {
   "cell_type": "code",
   "execution_count": 17,
   "metadata": {
    "collapsed": false,
    "slideshow": {
     "slide_type": "subslide"
    }
   },
   "outputs": [
    {
     "data": {
      "text/plain": [
       "Index([u'review_appearance', u'review_aroma', u'review_overall',\n",
       "       u'review_palate', u'review_taste'],\n",
       "      dtype='object')"
      ]
     },
     "execution_count": 17,
     "metadata": {},
     "output_type": "execute_result"
    }
   ],
   "source": [
    "reviews = df.columns[df.columns.str.startswith('review')]\n",
    "reviews"
   ]
  },
  {
   "cell_type": "code",
   "execution_count": 18,
   "metadata": {
    "collapsed": false,
    "slideshow": {
     "slide_type": "fragment"
    }
   },
   "outputs": [
    {
     "data": {
      "text/html": [
       "<div>\n",
       "<table border=\"1\" class=\"dataframe\">\n",
       "  <thead>\n",
       "    <tr style=\"text-align: right;\">\n",
       "      <th></th>\n",
       "      <th>kind</th>\n",
       "      <th>stars</th>\n",
       "    </tr>\n",
       "  </thead>\n",
       "  <tbody>\n",
       "    <tr>\n",
       "      <th>0</th>\n",
       "      <td>review_appearance</td>\n",
       "      <td>4.5</td>\n",
       "    </tr>\n",
       "    <tr>\n",
       "      <th>0</th>\n",
       "      <td>review_aroma</td>\n",
       "      <td>4.0</td>\n",
       "    </tr>\n",
       "    <tr>\n",
       "      <th>0</th>\n",
       "      <td>review_overall</td>\n",
       "      <td>4.5</td>\n",
       "    </tr>\n",
       "    <tr>\n",
       "      <th>...</th>\n",
       "      <td>...</td>\n",
       "      <td>...</td>\n",
       "    </tr>\n",
       "    <tr>\n",
       "      <th>49999</th>\n",
       "      <td>review_overall</td>\n",
       "      <td>5.0</td>\n",
       "    </tr>\n",
       "    <tr>\n",
       "      <th>49999</th>\n",
       "      <td>review_palate</td>\n",
       "      <td>4.5</td>\n",
       "    </tr>\n",
       "    <tr>\n",
       "      <th>49999</th>\n",
       "      <td>review_taste</td>\n",
       "      <td>4.5</td>\n",
       "    </tr>\n",
       "  </tbody>\n",
       "</table>\n",
       "<p>250000 rows × 2 columns</p>\n",
       "</div>"
      ],
      "text/plain": [
       "                    kind  stars\n",
       "0      review_appearance    4.5\n",
       "0           review_aroma    4.0\n",
       "0         review_overall    4.5\n",
       "...                  ...    ...\n",
       "49999     review_overall    5.0\n",
       "49999      review_palate    4.5\n",
       "49999       review_taste    4.5\n",
       "\n",
       "[250000 rows x 2 columns]"
      ]
     },
     "execution_count": 18,
     "metadata": {},
     "output_type": "execute_result"
    }
   ],
   "source": [
    "(df.loc[:,reviews]\n",
    "  .stack()\n",
    "  .reset_index(level=1)\n",
    "  .rename(columns={'level_1': 'kind', 0: 'stars'})\n",
    " )"
   ]
  },
  {
   "cell_type": "markdown",
   "metadata": {
    "slideshow": {
     "slide_type": "slide"
    }
   },
   "source": [
    "# Groupby"
   ]
  },
  {
   "cell_type": "markdown",
   "metadata": {
    "slideshow": {
     "slide_type": "fragment"
    }
   },
   "source": [
    "Groupby is a fundamental operation to pandas and data analysis.\n",
    "\n",
    "The components of a groupby operation are to\n",
    "\n",
    "1. Split a table into groups\n",
    "2. Apply a function to each groups\n",
    "3. Combine the results\n",
    "\n",
    "http://pandas.pydata.org/pandas-docs/stable/groupby.html"
   ]
  },
  {
   "cell_type": "markdown",
   "metadata": {
    "slideshow": {
     "slide_type": "subslide"
    }
   },
   "source": [
    "In pandas the first step looks like\n",
    "\n",
    "``df.groupby( grouper )``\n",
    "\n",
    "`grouper` can be many things\n",
    "\n",
    "- ``Series`` (or string indicating a column in a ``DataFrame``)\n",
    "- function (to be applied on the index)\n",
    "- dict : groups by *values*\n",
    "- `levels=[]`, names of levels in a MultiIndex"
   ]
  },
  {
   "cell_type": "code",
   "execution_count": 19,
   "metadata": {
    "collapsed": false,
    "slideshow": {
     "slide_type": "subslide"
    }
   },
   "outputs": [
    {
     "data": {
      "text/plain": [
       "<pandas.core.groupby.DataFrameGroupBy object at 0x120f7ea90>"
      ]
     },
     "execution_count": 19,
     "metadata": {},
     "output_type": "execute_result"
    }
   ],
   "source": [
    "gr = df.groupby('beer_style')\n",
    "gr"
   ]
  },
  {
   "cell_type": "markdown",
   "metadata": {
    "slideshow": {
     "slide_type": "fragment"
    }
   },
   "source": [
    "Haven't really done anything yet. Just some book-keeping to figure out which **keys** go with which rows. Keys are the things we've grouped by (each `beer_style` in this case)."
   ]
  },
  {
   "cell_type": "code",
   "execution_count": 20,
   "metadata": {
    "collapsed": false,
    "slideshow": {
     "slide_type": "subslide"
    }
   },
   "outputs": [
    {
     "data": {
      "text/plain": [
       "100"
      ]
     },
     "execution_count": 20,
     "metadata": {},
     "output_type": "execute_result"
    }
   ],
   "source": [
    "gr.ngroups"
   ]
  },
  {
   "cell_type": "code",
   "execution_count": 21,
   "metadata": {
    "collapsed": false,
    "slideshow": {
     "slide_type": "fragment"
    }
   },
   "outputs": [
    {
     "data": {
      "text/plain": [
       "[u'Tripel',\n",
       " u'American Black Ale',\n",
       " u'Fruit / Vegetable Beer',\n",
       " u'English Brown Ale',\n",
       " u'American Pale Ale (APA)']"
      ]
     },
     "execution_count": 21,
     "metadata": {},
     "output_type": "execute_result"
    }
   ],
   "source": [
    "list(gr.groups)[0:5]"
   ]
  },
  {
   "cell_type": "code",
   "execution_count": 23,
   "metadata": {
    "collapsed": false
   },
   "outputs": [],
   "source": [
    "cols = ['beer_style'] + df.columns.difference(['beer_style']).tolist()"
   ]
  },
  {
   "cell_type": "code",
   "execution_count": 24,
   "metadata": {
    "collapsed": false,
    "slideshow": {
     "slide_type": "subslide"
    }
   },
   "outputs": [
    {
     "data": {
      "text/html": [
       "<div>\n",
       "<table border=\"1\" class=\"dataframe\">\n",
       "  <thead>\n",
       "    <tr style=\"text-align: right;\">\n",
       "      <th></th>\n",
       "      <th>beer_style</th>\n",
       "      <th>abv</th>\n",
       "      <th>beer_id</th>\n",
       "      <th>...</th>\n",
       "      <th>review_taste</th>\n",
       "      <th>text</th>\n",
       "      <th>time</th>\n",
       "    </tr>\n",
       "  </thead>\n",
       "  <tbody>\n",
       "    <tr>\n",
       "      <th>42</th>\n",
       "      <td>Tripel</td>\n",
       "      <td>8.0</td>\n",
       "      <td>1631</td>\n",
       "      <td>...</td>\n",
       "      <td>4.0</td>\n",
       "      <td>Was perusing a store for some new items, and ...</td>\n",
       "      <td>2009-10-05 22:12:23</td>\n",
       "    </tr>\n",
       "    <tr>\n",
       "      <th>79</th>\n",
       "      <td>Tripel</td>\n",
       "      <td>8.5</td>\n",
       "      <td>5426</td>\n",
       "      <td>...</td>\n",
       "      <td>4.0</td>\n",
       "      <td>Appearance: Pours a very cloudy chestnut colo...</td>\n",
       "      <td>2009-10-05 23:02:42</td>\n",
       "    </tr>\n",
       "    <tr>\n",
       "      <th>102</th>\n",
       "      <td>Tripel</td>\n",
       "      <td>10.0</td>\n",
       "      <td>2566</td>\n",
       "      <td>...</td>\n",
       "      <td>4.0</td>\n",
       "      <td>Poured a nice slightly cloudy golden yellow w...</td>\n",
       "      <td>2009-10-05 23:31:27</td>\n",
       "    </tr>\n",
       "    <tr>\n",
       "      <th>...</th>\n",
       "      <td>...</td>\n",
       "      <td>...</td>\n",
       "      <td>...</td>\n",
       "      <td>...</td>\n",
       "      <td>...</td>\n",
       "      <td>...</td>\n",
       "      <td>...</td>\n",
       "    </tr>\n",
       "    <tr>\n",
       "      <th>49882</th>\n",
       "      <td>Tripel</td>\n",
       "      <td>8.0</td>\n",
       "      <td>1631</td>\n",
       "      <td>...</td>\n",
       "      <td>4.0</td>\n",
       "      <td>Pours a golden amber, with a big head that st...</td>\n",
       "      <td>2009-12-25 05:02:03</td>\n",
       "    </tr>\n",
       "    <tr>\n",
       "      <th>49945</th>\n",
       "      <td>Tripel</td>\n",
       "      <td>7.8</td>\n",
       "      <td>1054</td>\n",
       "      <td>...</td>\n",
       "      <td>3.5</td>\n",
       "      <td>A- It's pretty. Nice golden yellow. Nice and ...</td>\n",
       "      <td>2009-12-25 08:41:01</td>\n",
       "    </tr>\n",
       "    <tr>\n",
       "      <th>49949</th>\n",
       "      <td>Tripel</td>\n",
       "      <td>8.0</td>\n",
       "      <td>658</td>\n",
       "      <td>...</td>\n",
       "      <td>3.5</td>\n",
       "      <td>From a 750 ml caged and corked brown bottle. ...</td>\n",
       "      <td>2009-12-25 09:39:25</td>\n",
       "    </tr>\n",
       "  </tbody>\n",
       "</table>\n",
       "<p>809 rows × 13 columns</p>\n",
       "</div>"
      ],
      "text/plain": [
       "      beer_style   abv  beer_id         ...         review_taste  \\\n",
       "42        Tripel   8.0     1631         ...                  4.0   \n",
       "79        Tripel   8.5     5426         ...                  4.0   \n",
       "102       Tripel  10.0     2566         ...                  4.0   \n",
       "...          ...   ...      ...         ...                  ...   \n",
       "49882     Tripel   8.0     1631         ...                  4.0   \n",
       "49945     Tripel   7.8     1054         ...                  3.5   \n",
       "49949     Tripel   8.0      658         ...                  3.5   \n",
       "\n",
       "                                                    text                time  \n",
       "42      Was perusing a store for some new items, and ... 2009-10-05 22:12:23  \n",
       "79      Appearance: Pours a very cloudy chestnut colo... 2009-10-05 23:02:42  \n",
       "102     Poured a nice slightly cloudy golden yellow w... 2009-10-05 23:31:27  \n",
       "...                                                  ...                 ...  \n",
       "49882   Pours a golden amber, with a big head that st... 2009-12-25 05:02:03  \n",
       "49945   A- It's pretty. Nice golden yellow. Nice and ... 2009-12-25 08:41:01  \n",
       "49949   From a 750 ml caged and corked brown bottle. ... 2009-12-25 09:39:25  \n",
       "\n",
       "[809 rows x 13 columns]"
      ]
     },
     "execution_count": 24,
     "metadata": {},
     "output_type": "execute_result"
    }
   ],
   "source": [
    "gr.get_group('Tripel')[cols]"
   ]
  },
  {
   "cell_type": "code",
   "execution_count": 25,
   "metadata": {
    "collapsed": false,
    "slideshow": {
     "slide_type": "fragment"
    }
   },
   "outputs": [
    {
     "data": {
      "text/html": [
       "<div>\n",
       "<table border=\"1\" class=\"dataframe\">\n",
       "  <thead>\n",
       "    <tr style=\"text-align: right;\">\n",
       "      <th></th>\n",
       "      <th>beer_style</th>\n",
       "      <th>abv</th>\n",
       "      <th>beer_id</th>\n",
       "      <th>...</th>\n",
       "      <th>review_taste</th>\n",
       "      <th>text</th>\n",
       "      <th>time</th>\n",
       "    </tr>\n",
       "  </thead>\n",
       "  <tbody>\n",
       "    <tr>\n",
       "      <th>42</th>\n",
       "      <td>Tripel</td>\n",
       "      <td>8.0</td>\n",
       "      <td>1631</td>\n",
       "      <td>...</td>\n",
       "      <td>4.0</td>\n",
       "      <td>Was perusing a store for some new items, and ...</td>\n",
       "      <td>2009-10-05 22:12:23</td>\n",
       "    </tr>\n",
       "    <tr>\n",
       "      <th>79</th>\n",
       "      <td>Tripel</td>\n",
       "      <td>8.5</td>\n",
       "      <td>5426</td>\n",
       "      <td>...</td>\n",
       "      <td>4.0</td>\n",
       "      <td>Appearance: Pours a very cloudy chestnut colo...</td>\n",
       "      <td>2009-10-05 23:02:42</td>\n",
       "    </tr>\n",
       "    <tr>\n",
       "      <th>102</th>\n",
       "      <td>Tripel</td>\n",
       "      <td>10.0</td>\n",
       "      <td>2566</td>\n",
       "      <td>...</td>\n",
       "      <td>4.0</td>\n",
       "      <td>Poured a nice slightly cloudy golden yellow w...</td>\n",
       "      <td>2009-10-05 23:31:27</td>\n",
       "    </tr>\n",
       "    <tr>\n",
       "      <th>...</th>\n",
       "      <td>...</td>\n",
       "      <td>...</td>\n",
       "      <td>...</td>\n",
       "      <td>...</td>\n",
       "      <td>...</td>\n",
       "      <td>...</td>\n",
       "      <td>...</td>\n",
       "    </tr>\n",
       "    <tr>\n",
       "      <th>49882</th>\n",
       "      <td>Tripel</td>\n",
       "      <td>8.0</td>\n",
       "      <td>1631</td>\n",
       "      <td>...</td>\n",
       "      <td>4.0</td>\n",
       "      <td>Pours a golden amber, with a big head that st...</td>\n",
       "      <td>2009-12-25 05:02:03</td>\n",
       "    </tr>\n",
       "    <tr>\n",
       "      <th>49945</th>\n",
       "      <td>Tripel</td>\n",
       "      <td>7.8</td>\n",
       "      <td>1054</td>\n",
       "      <td>...</td>\n",
       "      <td>3.5</td>\n",
       "      <td>A- It's pretty. Nice golden yellow. Nice and ...</td>\n",
       "      <td>2009-12-25 08:41:01</td>\n",
       "    </tr>\n",
       "    <tr>\n",
       "      <th>49949</th>\n",
       "      <td>Tripel</td>\n",
       "      <td>8.0</td>\n",
       "      <td>658</td>\n",
       "      <td>...</td>\n",
       "      <td>3.5</td>\n",
       "      <td>From a 750 ml caged and corked brown bottle. ...</td>\n",
       "      <td>2009-12-25 09:39:25</td>\n",
       "    </tr>\n",
       "  </tbody>\n",
       "</table>\n",
       "<p>809 rows × 13 columns</p>\n",
       "</div>"
      ],
      "text/plain": [
       "      beer_style   abv  beer_id         ...         review_taste  \\\n",
       "42        Tripel   8.0     1631         ...                  4.0   \n",
       "79        Tripel   8.5     5426         ...                  4.0   \n",
       "102       Tripel  10.0     2566         ...                  4.0   \n",
       "...          ...   ...      ...         ...                  ...   \n",
       "49882     Tripel   8.0     1631         ...                  4.0   \n",
       "49945     Tripel   7.8     1054         ...                  3.5   \n",
       "49949     Tripel   8.0      658         ...                  3.5   \n",
       "\n",
       "                                                    text                time  \n",
       "42      Was perusing a store for some new items, and ... 2009-10-05 22:12:23  \n",
       "79      Appearance: Pours a very cloudy chestnut colo... 2009-10-05 23:02:42  \n",
       "102     Poured a nice slightly cloudy golden yellow w... 2009-10-05 23:31:27  \n",
       "...                                                  ...                 ...  \n",
       "49882   Pours a golden amber, with a big head that st... 2009-12-25 05:02:03  \n",
       "49945   A- It's pretty. Nice golden yellow. Nice and ... 2009-12-25 08:41:01  \n",
       "49949   From a 750 ml caged and corked brown bottle. ... 2009-12-25 09:39:25  \n",
       "\n",
       "[809 rows x 13 columns]"
      ]
     },
     "execution_count": 25,
     "metadata": {},
     "output_type": "execute_result"
    }
   ],
   "source": [
    "df.loc[df.beer_style=='Tripel',cols]"
   ]
  },
  {
   "cell_type": "markdown",
   "metadata": {
    "slideshow": {
     "slide_type": "subslide"
    }
   },
   "source": [
    "The last two steps, apply and combine:"
   ]
  },
  {
   "cell_type": "code",
   "execution_count": 26,
   "metadata": {
    "collapsed": false,
    "slideshow": {
     "slide_type": "fragment"
    }
   },
   "outputs": [
    {
     "data": {
      "text/html": [
       "<div>\n",
       "<table border=\"1\" class=\"dataframe\">\n",
       "  <thead>\n",
       "    <tr style=\"text-align: right;\">\n",
       "      <th></th>\n",
       "      <th>abv</th>\n",
       "      <th>beer_id</th>\n",
       "      <th>brewer_id</th>\n",
       "      <th>...</th>\n",
       "      <th>review_overall</th>\n",
       "      <th>review_palate</th>\n",
       "      <th>review_taste</th>\n",
       "    </tr>\n",
       "    <tr>\n",
       "      <th>beer_style</th>\n",
       "      <th></th>\n",
       "      <th></th>\n",
       "      <th></th>\n",
       "      <th></th>\n",
       "      <th></th>\n",
       "      <th></th>\n",
       "      <th></th>\n",
       "    </tr>\n",
       "  </thead>\n",
       "  <tbody>\n",
       "    <tr>\n",
       "      <th>Altbier</th>\n",
       "      <td>5.936331</td>\n",
       "      <td>28241.698324</td>\n",
       "      <td>4724.486034</td>\n",
       "      <td>...</td>\n",
       "      <td>3.790503</td>\n",
       "      <td>3.689944</td>\n",
       "      <td>3.703911</td>\n",
       "    </tr>\n",
       "    <tr>\n",
       "      <th>American Adjunct Lager</th>\n",
       "      <td>4.880552</td>\n",
       "      <td>9403.638070</td>\n",
       "      <td>1541.485255</td>\n",
       "      <td>...</td>\n",
       "      <td>3.071716</td>\n",
       "      <td>2.733244</td>\n",
       "      <td>2.674933</td>\n",
       "    </tr>\n",
       "    <tr>\n",
       "      <th>American Amber / Red Ale</th>\n",
       "      <td>6.135963</td>\n",
       "      <td>23557.469145</td>\n",
       "      <td>3314.523420</td>\n",
       "      <td>...</td>\n",
       "      <td>3.833829</td>\n",
       "      <td>3.694796</td>\n",
       "      <td>3.734944</td>\n",
       "    </tr>\n",
       "    <tr>\n",
       "      <th>...</th>\n",
       "      <td>...</td>\n",
       "      <td>...</td>\n",
       "      <td>...</td>\n",
       "      <td>...</td>\n",
       "      <td>...</td>\n",
       "      <td>...</td>\n",
       "      <td>...</td>\n",
       "    </tr>\n",
       "    <tr>\n",
       "      <th>Wheatwine</th>\n",
       "      <td>10.766667</td>\n",
       "      <td>44146.641618</td>\n",
       "      <td>2363.132948</td>\n",
       "      <td>...</td>\n",
       "      <td>3.722543</td>\n",
       "      <td>3.872832</td>\n",
       "      <td>3.947977</td>\n",
       "    </tr>\n",
       "    <tr>\n",
       "      <th>Winter Warmer</th>\n",
       "      <td>6.520407</td>\n",
       "      <td>22726.750603</td>\n",
       "      <td>2315.001609</td>\n",
       "      <td>...</td>\n",
       "      <td>3.805310</td>\n",
       "      <td>3.703540</td>\n",
       "      <td>3.767900</td>\n",
       "    </tr>\n",
       "    <tr>\n",
       "      <th>Witbier</th>\n",
       "      <td>5.850545</td>\n",
       "      <td>29447.023904</td>\n",
       "      <td>3096.407703</td>\n",
       "      <td>...</td>\n",
       "      <td>3.742364</td>\n",
       "      <td>3.567729</td>\n",
       "      <td>3.624170</td>\n",
       "    </tr>\n",
       "  </tbody>\n",
       "</table>\n",
       "<p>100 rows × 8 columns</p>\n",
       "</div>"
      ],
      "text/plain": [
       "                                abv       beer_id    brewer_id      ...       \\\n",
       "beer_style                                                          ...        \n",
       "Altbier                    5.936331  28241.698324  4724.486034      ...        \n",
       "American Adjunct Lager     4.880552   9403.638070  1541.485255      ...        \n",
       "American Amber / Red Ale   6.135963  23557.469145  3314.523420      ...        \n",
       "...                             ...           ...          ...      ...        \n",
       "Wheatwine                 10.766667  44146.641618  2363.132948      ...        \n",
       "Winter Warmer              6.520407  22726.750603  2315.001609      ...        \n",
       "Witbier                    5.850545  29447.023904  3096.407703      ...        \n",
       "\n",
       "                          review_overall  review_palate  review_taste  \n",
       "beer_style                                                             \n",
       "Altbier                         3.790503       3.689944      3.703911  \n",
       "American Adjunct Lager          3.071716       2.733244      2.674933  \n",
       "American Amber / Red Ale        3.833829       3.694796      3.734944  \n",
       "...                                  ...            ...           ...  \n",
       "Wheatwine                       3.722543       3.872832      3.947977  \n",
       "Winter Warmer                   3.805310       3.703540      3.767900  \n",
       "Witbier                         3.742364       3.567729      3.624170  \n",
       "\n",
       "[100 rows x 8 columns]"
      ]
     },
     "execution_count": 26,
     "metadata": {},
     "output_type": "execute_result"
    }
   ],
   "source": [
    "gr.agg('mean')"
   ]
  },
  {
   "cell_type": "markdown",
   "metadata": {},
   "source": [
    "This says apply the `mean` function to each column. Non-numeric columns (nusiance columns) are excluded. We can also select a subset of columns to perform the aggregation on."
   ]
  },
  {
   "cell_type": "code",
   "execution_count": 27,
   "metadata": {
    "collapsed": false,
    "slideshow": {
     "slide_type": "subslide"
    }
   },
   "outputs": [
    {
     "data": {
      "text/html": [
       "<div>\n",
       "<table border=\"1\" class=\"dataframe\">\n",
       "  <thead>\n",
       "    <tr style=\"text-align: right;\">\n",
       "      <th></th>\n",
       "      <th>abv</th>\n",
       "      <th>review_overall</th>\n",
       "      <th>review_appearance</th>\n",
       "      <th>review_palate</th>\n",
       "      <th>review_taste</th>\n",
       "    </tr>\n",
       "    <tr>\n",
       "      <th>beer_style</th>\n",
       "      <th></th>\n",
       "      <th></th>\n",
       "      <th></th>\n",
       "      <th></th>\n",
       "      <th></th>\n",
       "    </tr>\n",
       "  </thead>\n",
       "  <tbody>\n",
       "    <tr>\n",
       "      <th>Altbier</th>\n",
       "      <td>5.936331</td>\n",
       "      <td>3.790503</td>\n",
       "      <td>3.776536</td>\n",
       "      <td>3.689944</td>\n",
       "      <td>3.703911</td>\n",
       "    </tr>\n",
       "    <tr>\n",
       "      <th>American Adjunct Lager</th>\n",
       "      <td>4.880552</td>\n",
       "      <td>3.071716</td>\n",
       "      <td>2.783512</td>\n",
       "      <td>2.733244</td>\n",
       "      <td>2.674933</td>\n",
       "    </tr>\n",
       "    <tr>\n",
       "      <th>American Amber / Red Ale</th>\n",
       "      <td>6.135963</td>\n",
       "      <td>3.833829</td>\n",
       "      <td>3.836431</td>\n",
       "      <td>3.694796</td>\n",
       "      <td>3.734944</td>\n",
       "    </tr>\n",
       "    <tr>\n",
       "      <th>...</th>\n",
       "      <td>...</td>\n",
       "      <td>...</td>\n",
       "      <td>...</td>\n",
       "      <td>...</td>\n",
       "      <td>...</td>\n",
       "    </tr>\n",
       "    <tr>\n",
       "      <th>Wheatwine</th>\n",
       "      <td>10.766667</td>\n",
       "      <td>3.722543</td>\n",
       "      <td>3.916185</td>\n",
       "      <td>3.872832</td>\n",
       "      <td>3.947977</td>\n",
       "    </tr>\n",
       "    <tr>\n",
       "      <th>Winter Warmer</th>\n",
       "      <td>6.520407</td>\n",
       "      <td>3.805310</td>\n",
       "      <td>3.864441</td>\n",
       "      <td>3.703540</td>\n",
       "      <td>3.767900</td>\n",
       "    </tr>\n",
       "    <tr>\n",
       "      <th>Witbier</th>\n",
       "      <td>5.850545</td>\n",
       "      <td>3.742364</td>\n",
       "      <td>3.634794</td>\n",
       "      <td>3.567729</td>\n",
       "      <td>3.624170</td>\n",
       "    </tr>\n",
       "  </tbody>\n",
       "</table>\n",
       "<p>100 rows × 5 columns</p>\n",
       "</div>"
      ],
      "text/plain": [
       "                                abv  review_overall  review_appearance  \\\n",
       "beer_style                                                               \n",
       "Altbier                    5.936331        3.790503           3.776536   \n",
       "American Adjunct Lager     4.880552        3.071716           2.783512   \n",
       "American Amber / Red Ale   6.135963        3.833829           3.836431   \n",
       "...                             ...             ...                ...   \n",
       "Wheatwine                 10.766667        3.722543           3.916185   \n",
       "Winter Warmer              6.520407        3.805310           3.864441   \n",
       "Witbier                    5.850545        3.742364           3.634794   \n",
       "\n",
       "                          review_palate  review_taste  \n",
       "beer_style                                             \n",
       "Altbier                        3.689944      3.703911  \n",
       "American Adjunct Lager         2.733244      2.674933  \n",
       "American Amber / Red Ale       3.694796      3.734944  \n",
       "...                                 ...           ...  \n",
       "Wheatwine                      3.872832      3.947977  \n",
       "Winter Warmer                  3.703540      3.767900  \n",
       "Witbier                        3.567729      3.624170  \n",
       "\n",
       "[100 rows x 5 columns]"
      ]
     },
     "execution_count": 27,
     "metadata": {},
     "output_type": "execute_result"
    }
   ],
   "source": [
    "review_columns = ['abv','review_overall','review_appearance',\n",
    "                  'review_palate','review_taste']\n",
    "gr[review_columns].agg('mean')"
   ]
  },
  {
   "cell_type": "markdown",
   "metadata": {
    "slideshow": {
     "slide_type": "subslide"
    }
   },
   "source": [
    "`.` attribute lookup works as well."
   ]
  },
  {
   "cell_type": "code",
   "execution_count": 28,
   "metadata": {
    "collapsed": false
   },
   "outputs": [
    {
     "data": {
      "text/plain": [
       "beer_style\n",
       "Altbier                      5.936331\n",
       "American Adjunct Lager       4.880552\n",
       "American Amber / Red Ale     6.135963\n",
       "                              ...    \n",
       "Wheatwine                   10.766667\n",
       "Winter Warmer                6.520407\n",
       "Witbier                      5.850545\n",
       "Name: abv, dtype: float64"
      ]
     },
     "execution_count": 28,
     "metadata": {},
     "output_type": "execute_result"
    }
   ],
   "source": [
    "gr.abv.agg('mean')"
   ]
  },
  {
   "cell_type": "markdown",
   "metadata": {
    "slideshow": {
     "slide_type": "subslide"
    }
   },
   "source": [
    "Find the `beer_style` with the greatest variance in `abv`."
   ]
  },
  {
   "cell_type": "code",
   "execution_count": 29,
   "metadata": {
    "collapsed": false
   },
   "outputs": [
    {
     "data": {
      "text/plain": [
       "beer_style\n",
       "American Strong Ale                 3.506721\n",
       "American Double / Imperial Stout    2.785742\n",
       "Flanders Oud Bruin                  2.723145\n",
       "                                      ...   \n",
       "Gose                                0.185557\n",
       "Low Alcohol Beer                    0.121006\n",
       "Happoshu                            0.000000\n",
       "Name: abv, dtype: float64"
      ]
     },
     "execution_count": 29,
     "metadata": {},
     "output_type": "execute_result"
    }
   ],
   "source": [
    "df.groupby('beer_style').abv.std().sort_values(ascending=False)"
   ]
  },
  {
   "cell_type": "markdown",
   "metadata": {
    "slideshow": {
     "slide_type": "subslide"
    }
   },
   "source": [
    "Multiple Aggregations on one column"
   ]
  },
  {
   "cell_type": "code",
   "execution_count": 30,
   "metadata": {
    "collapsed": false
   },
   "outputs": [
    {
     "data": {
      "text/html": [
       "<div>\n",
       "<table border=\"1\" class=\"dataframe\">\n",
       "  <thead>\n",
       "    <tr style=\"text-align: right;\">\n",
       "      <th></th>\n",
       "      <th>mean</th>\n",
       "      <th>std</th>\n",
       "      <th>count</th>\n",
       "    </tr>\n",
       "    <tr>\n",
       "      <th>beer_style</th>\n",
       "      <th></th>\n",
       "      <th></th>\n",
       "      <th></th>\n",
       "    </tr>\n",
       "  </thead>\n",
       "  <tbody>\n",
       "    <tr>\n",
       "      <th>Altbier</th>\n",
       "      <td>3.581006</td>\n",
       "      <td>0.561276</td>\n",
       "      <td>179</td>\n",
       "    </tr>\n",
       "    <tr>\n",
       "      <th>American Adjunct Lager</th>\n",
       "      <td>2.479893</td>\n",
       "      <td>0.732925</td>\n",
       "      <td>746</td>\n",
       "    </tr>\n",
       "    <tr>\n",
       "      <th>American Amber / Red Ale</th>\n",
       "      <td>3.653532</td>\n",
       "      <td>0.588231</td>\n",
       "      <td>1345</td>\n",
       "    </tr>\n",
       "    <tr>\n",
       "      <th>American Amber / Red Lager</th>\n",
       "      <td>3.120690</td>\n",
       "      <td>0.661131</td>\n",
       "      <td>203</td>\n",
       "    </tr>\n",
       "    <tr>\n",
       "      <th>American Barleywine</th>\n",
       "      <td>3.997439</td>\n",
       "      <td>0.511402</td>\n",
       "      <td>781</td>\n",
       "    </tr>\n",
       "  </tbody>\n",
       "</table>\n",
       "</div>"
      ],
      "text/plain": [
       "                                mean       std  count\n",
       "beer_style                                           \n",
       "Altbier                     3.581006  0.561276    179\n",
       "American Adjunct Lager      2.479893  0.732925    746\n",
       "American Amber / Red Ale    3.653532  0.588231   1345\n",
       "American Amber / Red Lager  3.120690  0.661131    203\n",
       "American Barleywine         3.997439  0.511402    781"
      ]
     },
     "execution_count": 30,
     "metadata": {},
     "output_type": "execute_result"
    }
   ],
   "source": [
    "gr['review_aroma'].agg([np.mean, np.std, 'count']).head()"
   ]
  },
  {
   "cell_type": "markdown",
   "metadata": {
    "slideshow": {
     "slide_type": "subslide"
    }
   },
   "source": [
    "Single Aggregation on multiple columns"
   ]
  },
  {
   "cell_type": "code",
   "execution_count": 31,
   "metadata": {
    "collapsed": false
   },
   "outputs": [
    {
     "data": {
      "text/html": [
       "<div>\n",
       "<table border=\"1\" class=\"dataframe\">\n",
       "  <thead>\n",
       "    <tr style=\"text-align: right;\">\n",
       "      <th></th>\n",
       "      <th>abv</th>\n",
       "      <th>review_overall</th>\n",
       "      <th>review_appearance</th>\n",
       "      <th>review_palate</th>\n",
       "      <th>review_taste</th>\n",
       "    </tr>\n",
       "    <tr>\n",
       "      <th>beer_style</th>\n",
       "      <th></th>\n",
       "      <th></th>\n",
       "      <th></th>\n",
       "      <th></th>\n",
       "      <th></th>\n",
       "    </tr>\n",
       "  </thead>\n",
       "  <tbody>\n",
       "    <tr>\n",
       "      <th>Altbier</th>\n",
       "      <td>5.936331</td>\n",
       "      <td>3.790503</td>\n",
       "      <td>3.776536</td>\n",
       "      <td>3.689944</td>\n",
       "      <td>3.703911</td>\n",
       "    </tr>\n",
       "    <tr>\n",
       "      <th>American Adjunct Lager</th>\n",
       "      <td>4.880552</td>\n",
       "      <td>3.071716</td>\n",
       "      <td>2.783512</td>\n",
       "      <td>2.733244</td>\n",
       "      <td>2.674933</td>\n",
       "    </tr>\n",
       "    <tr>\n",
       "      <th>American Amber / Red Ale</th>\n",
       "      <td>6.135963</td>\n",
       "      <td>3.833829</td>\n",
       "      <td>3.836431</td>\n",
       "      <td>3.694796</td>\n",
       "      <td>3.734944</td>\n",
       "    </tr>\n",
       "    <tr>\n",
       "      <th>...</th>\n",
       "      <td>...</td>\n",
       "      <td>...</td>\n",
       "      <td>...</td>\n",
       "      <td>...</td>\n",
       "      <td>...</td>\n",
       "    </tr>\n",
       "    <tr>\n",
       "      <th>Wheatwine</th>\n",
       "      <td>10.766667</td>\n",
       "      <td>3.722543</td>\n",
       "      <td>3.916185</td>\n",
       "      <td>3.872832</td>\n",
       "      <td>3.947977</td>\n",
       "    </tr>\n",
       "    <tr>\n",
       "      <th>Winter Warmer</th>\n",
       "      <td>6.520407</td>\n",
       "      <td>3.805310</td>\n",
       "      <td>3.864441</td>\n",
       "      <td>3.703540</td>\n",
       "      <td>3.767900</td>\n",
       "    </tr>\n",
       "    <tr>\n",
       "      <th>Witbier</th>\n",
       "      <td>5.850545</td>\n",
       "      <td>3.742364</td>\n",
       "      <td>3.634794</td>\n",
       "      <td>3.567729</td>\n",
       "      <td>3.624170</td>\n",
       "    </tr>\n",
       "  </tbody>\n",
       "</table>\n",
       "<p>100 rows × 5 columns</p>\n",
       "</div>"
      ],
      "text/plain": [
       "                                abv  review_overall  review_appearance  \\\n",
       "beer_style                                                               \n",
       "Altbier                    5.936331        3.790503           3.776536   \n",
       "American Adjunct Lager     4.880552        3.071716           2.783512   \n",
       "American Amber / Red Ale   6.135963        3.833829           3.836431   \n",
       "...                             ...             ...                ...   \n",
       "Wheatwine                 10.766667        3.722543           3.916185   \n",
       "Winter Warmer              6.520407        3.805310           3.864441   \n",
       "Witbier                    5.850545        3.742364           3.634794   \n",
       "\n",
       "                          review_palate  review_taste  \n",
       "beer_style                                             \n",
       "Altbier                        3.689944      3.703911  \n",
       "American Adjunct Lager         2.733244      2.674933  \n",
       "American Amber / Red Ale       3.694796      3.734944  \n",
       "...                                 ...           ...  \n",
       "Wheatwine                      3.872832      3.947977  \n",
       "Winter Warmer                  3.703540      3.767900  \n",
       "Witbier                        3.567729      3.624170  \n",
       "\n",
       "[100 rows x 5 columns]"
      ]
     },
     "execution_count": 31,
     "metadata": {},
     "output_type": "execute_result"
    }
   ],
   "source": [
    "gr[review_columns].mean()"
   ]
  },
  {
   "cell_type": "raw",
   "metadata": {
    "collapsed": true,
    "slideshow": {
     "slide_type": "subslide"
    }
   },
   "source": [
    "Multiple aggregations on multiple columns"
   ]
  },
  {
   "cell_type": "code",
   "execution_count": 32,
   "metadata": {
    "collapsed": false
   },
   "outputs": [
    {
     "data": {
      "text/html": [
       "<div>\n",
       "<table border=\"1\" class=\"dataframe\">\n",
       "  <thead>\n",
       "    <tr>\n",
       "      <th></th>\n",
       "      <th colspan=\"3\" halign=\"left\">abv</th>\n",
       "      <th>...</th>\n",
       "      <th colspan=\"3\" halign=\"left\">review_taste</th>\n",
       "    </tr>\n",
       "    <tr>\n",
       "      <th></th>\n",
       "      <th>mean</th>\n",
       "      <th>count</th>\n",
       "      <th>std</th>\n",
       "      <th>...</th>\n",
       "      <th>mean</th>\n",
       "      <th>count</th>\n",
       "      <th>std</th>\n",
       "    </tr>\n",
       "    <tr>\n",
       "      <th>beer_style</th>\n",
       "      <th></th>\n",
       "      <th></th>\n",
       "      <th></th>\n",
       "      <th></th>\n",
       "      <th></th>\n",
       "      <th></th>\n",
       "      <th></th>\n",
       "    </tr>\n",
       "  </thead>\n",
       "  <tbody>\n",
       "    <tr>\n",
       "      <th>Altbier</th>\n",
       "      <td>5.936331</td>\n",
       "      <td>169</td>\n",
       "      <td>1.394085</td>\n",
       "      <td>...</td>\n",
       "      <td>3.703911</td>\n",
       "      <td>179</td>\n",
       "      <td>0.608033</td>\n",
       "    </tr>\n",
       "    <tr>\n",
       "      <th>American Adjunct Lager</th>\n",
       "      <td>4.880552</td>\n",
       "      <td>706</td>\n",
       "      <td>0.405311</td>\n",
       "      <td>...</td>\n",
       "      <td>2.674933</td>\n",
       "      <td>746</td>\n",
       "      <td>0.815884</td>\n",
       "    </tr>\n",
       "    <tr>\n",
       "      <th>American Amber / Red Ale</th>\n",
       "      <td>6.135963</td>\n",
       "      <td>1256</td>\n",
       "      <td>1.299676</td>\n",
       "      <td>...</td>\n",
       "      <td>3.734944</td>\n",
       "      <td>1345</td>\n",
       "      <td>0.640439</td>\n",
       "    </tr>\n",
       "    <tr>\n",
       "      <th>...</th>\n",
       "      <td>...</td>\n",
       "      <td>...</td>\n",
       "      <td>...</td>\n",
       "      <td>...</td>\n",
       "      <td>...</td>\n",
       "      <td>...</td>\n",
       "      <td>...</td>\n",
       "    </tr>\n",
       "    <tr>\n",
       "      <th>Wheatwine</th>\n",
       "      <td>10.766667</td>\n",
       "      <td>171</td>\n",
       "      <td>1.043411</td>\n",
       "      <td>...</td>\n",
       "      <td>3.947977</td>\n",
       "      <td>173</td>\n",
       "      <td>0.624275</td>\n",
       "    </tr>\n",
       "    <tr>\n",
       "      <th>Winter Warmer</th>\n",
       "      <td>6.520407</td>\n",
       "      <td>1228</td>\n",
       "      <td>1.079628</td>\n",
       "      <td>...</td>\n",
       "      <td>3.767900</td>\n",
       "      <td>1243</td>\n",
       "      <td>0.621533</td>\n",
       "    </tr>\n",
       "    <tr>\n",
       "      <th>Witbier</th>\n",
       "      <td>5.850545</td>\n",
       "      <td>716</td>\n",
       "      <td>1.561416</td>\n",
       "      <td>...</td>\n",
       "      <td>3.624170</td>\n",
       "      <td>753</td>\n",
       "      <td>0.674517</td>\n",
       "    </tr>\n",
       "  </tbody>\n",
       "</table>\n",
       "<p>100 rows × 15 columns</p>\n",
       "</div>"
      ],
      "text/plain": [
       "                                abv                    ...    review_taste  \\\n",
       "                               mean count       std    ...            mean   \n",
       "beer_style                                             ...                   \n",
       "Altbier                    5.936331   169  1.394085    ...        3.703911   \n",
       "American Adjunct Lager     4.880552   706  0.405311    ...        2.674933   \n",
       "American Amber / Red Ale   6.135963  1256  1.299676    ...        3.734944   \n",
       "...                             ...   ...       ...    ...             ...   \n",
       "Wheatwine                 10.766667   171  1.043411    ...        3.947977   \n",
       "Winter Warmer              6.520407  1228  1.079628    ...        3.767900   \n",
       "Witbier                    5.850545   716  1.561416    ...        3.624170   \n",
       "\n",
       "                                          \n",
       "                         count       std  \n",
       "beer_style                                \n",
       "Altbier                    179  0.608033  \n",
       "American Adjunct Lager     746  0.815884  \n",
       "American Amber / Red Ale  1345  0.640439  \n",
       "...                        ...       ...  \n",
       "Wheatwine                  173  0.624275  \n",
       "Winter Warmer             1243  0.621533  \n",
       "Witbier                    753  0.674517  \n",
       "\n",
       "[100 rows x 15 columns]"
      ]
     },
     "execution_count": 32,
     "metadata": {},
     "output_type": "execute_result"
    }
   ],
   "source": [
    "gr[review_columns].agg(['mean', 'count', 'std'])"
   ]
  },
  {
   "cell_type": "markdown",
   "metadata": {
    "slideshow": {
     "slide_type": "slide"
    }
   },
   "source": [
    "Hierarchical Indexes in the columns can be awkward to work with, so I'll usually\n",
    "move a level to the Index with `.stack`."
   ]
  },
  {
   "cell_type": "markdown",
   "metadata": {},
   "source": [
    "http://pandas.pydata.org/pandas-docs/stable/reshaping.html#reshaping-by-stacking-and-unstacking"
   ]
  },
  {
   "cell_type": "code",
   "execution_count": 33,
   "metadata": {
    "collapsed": false,
    "slideshow": {
     "slide_type": "subslide"
    }
   },
   "outputs": [
    {
     "data": {
      "text/html": [
       "<div>\n",
       "<table border=\"1\" class=\"dataframe\">\n",
       "  <thead>\n",
       "    <tr style=\"text-align: right;\">\n",
       "      <th></th>\n",
       "      <th></th>\n",
       "      <th>mean</th>\n",
       "      <th>count</th>\n",
       "      <th>std</th>\n",
       "    </tr>\n",
       "    <tr>\n",
       "      <th>beer_style</th>\n",
       "      <th></th>\n",
       "      <th></th>\n",
       "      <th></th>\n",
       "      <th></th>\n",
       "    </tr>\n",
       "  </thead>\n",
       "  <tbody>\n",
       "    <tr>\n",
       "      <th rowspan=\"3\" valign=\"top\">Altbier</th>\n",
       "      <th>abv</th>\n",
       "      <td>5.936331</td>\n",
       "      <td>169</td>\n",
       "      <td>1.394085</td>\n",
       "    </tr>\n",
       "    <tr>\n",
       "      <th>review_overall</th>\n",
       "      <td>3.790503</td>\n",
       "      <td>179</td>\n",
       "      <td>0.674136</td>\n",
       "    </tr>\n",
       "    <tr>\n",
       "      <th>review_appearance</th>\n",
       "      <td>3.776536</td>\n",
       "      <td>179</td>\n",
       "      <td>0.578459</td>\n",
       "    </tr>\n",
       "    <tr>\n",
       "      <th>...</th>\n",
       "      <th>...</th>\n",
       "      <td>...</td>\n",
       "      <td>...</td>\n",
       "      <td>...</td>\n",
       "    </tr>\n",
       "    <tr>\n",
       "      <th rowspan=\"3\" valign=\"top\">Witbier</th>\n",
       "      <th>review_appearance</th>\n",
       "      <td>3.634794</td>\n",
       "      <td>753</td>\n",
       "      <td>0.581826</td>\n",
       "    </tr>\n",
       "    <tr>\n",
       "      <th>review_palate</th>\n",
       "      <td>3.567729</td>\n",
       "      <td>753</td>\n",
       "      <td>0.615671</td>\n",
       "    </tr>\n",
       "    <tr>\n",
       "      <th>review_taste</th>\n",
       "      <td>3.624170</td>\n",
       "      <td>753</td>\n",
       "      <td>0.674517</td>\n",
       "    </tr>\n",
       "  </tbody>\n",
       "</table>\n",
       "<p>500 rows × 3 columns</p>\n",
       "</div>"
      ],
      "text/plain": [
       "                                  mean  count       std\n",
       "beer_style                                             \n",
       "Altbier    abv                5.936331    169  1.394085\n",
       "           review_overall     3.790503    179  0.674136\n",
       "           review_appearance  3.776536    179  0.578459\n",
       "...                                ...    ...       ...\n",
       "Witbier    review_appearance  3.634794    753  0.581826\n",
       "           review_palate      3.567729    753  0.615671\n",
       "           review_taste       3.624170    753  0.674517\n",
       "\n",
       "[500 rows x 3 columns]"
      ]
     },
     "execution_count": 33,
     "metadata": {},
     "output_type": "execute_result"
    }
   ],
   "source": [
    "multi = gr[review_columns].agg(['mean', 'count', 'std']).stack(level=0)\n",
    "multi"
   ]
  },
  {
   "cell_type": "markdown",
   "metadata": {
    "slideshow": {
     "slide_type": "subslide"
    }
   },
   "source": [
    "You can group by **levels** of a MultiIndex."
   ]
  },
  {
   "cell_type": "code",
   "execution_count": 34,
   "metadata": {
    "collapsed": false
   },
   "outputs": [
    {
     "data": {
      "text/html": [
       "<div>\n",
       "<table border=\"1\" class=\"dataframe\">\n",
       "  <thead>\n",
       "    <tr style=\"text-align: right;\">\n",
       "      <th></th>\n",
       "      <th>min</th>\n",
       "      <th>max</th>\n",
       "    </tr>\n",
       "    <tr>\n",
       "      <th>beer_style</th>\n",
       "      <th></th>\n",
       "      <th></th>\n",
       "    </tr>\n",
       "  </thead>\n",
       "  <tbody>\n",
       "    <tr>\n",
       "      <th>Altbier</th>\n",
       "      <td>3.689944</td>\n",
       "      <td>5.936331</td>\n",
       "    </tr>\n",
       "    <tr>\n",
       "      <th>American Adjunct Lager</th>\n",
       "      <td>2.674933</td>\n",
       "      <td>4.880552</td>\n",
       "    </tr>\n",
       "    <tr>\n",
       "      <th>American Amber / Red Ale</th>\n",
       "      <td>3.694796</td>\n",
       "      <td>6.135963</td>\n",
       "    </tr>\n",
       "    <tr>\n",
       "      <th>...</th>\n",
       "      <td>...</td>\n",
       "      <td>...</td>\n",
       "    </tr>\n",
       "    <tr>\n",
       "      <th>Wheatwine</th>\n",
       "      <td>3.722543</td>\n",
       "      <td>10.766667</td>\n",
       "    </tr>\n",
       "    <tr>\n",
       "      <th>Winter Warmer</th>\n",
       "      <td>3.703540</td>\n",
       "      <td>6.520407</td>\n",
       "    </tr>\n",
       "    <tr>\n",
       "      <th>Witbier</th>\n",
       "      <td>3.567729</td>\n",
       "      <td>5.850545</td>\n",
       "    </tr>\n",
       "  </tbody>\n",
       "</table>\n",
       "<p>100 rows × 2 columns</p>\n",
       "</div>"
      ],
      "text/plain": [
       "                               min        max\n",
       "beer_style                                   \n",
       "Altbier                   3.689944   5.936331\n",
       "American Adjunct Lager    2.674933   4.880552\n",
       "American Amber / Red Ale  3.694796   6.135963\n",
       "...                            ...        ...\n",
       "Wheatwine                 3.722543  10.766667\n",
       "Winter Warmer             3.703540   6.520407\n",
       "Witbier                   3.567729   5.850545\n",
       "\n",
       "[100 rows x 2 columns]"
      ]
     },
     "execution_count": 34,
     "metadata": {},
     "output_type": "execute_result"
    }
   ],
   "source": [
    "multi.groupby(level='beer_style')['mean'].agg(['min', 'max'])"
   ]
  },
  {
   "cell_type": "markdown",
   "metadata": {
    "slideshow": {
     "slide_type": "subslide"
    }
   },
   "source": [
    "Group by **multiple** columns"
   ]
  },
  {
   "cell_type": "code",
   "execution_count": 35,
   "metadata": {
    "collapsed": false
   },
   "outputs": [
    {
     "data": {
      "text/html": [
       "<div>\n",
       "<table border=\"1\" class=\"dataframe\">\n",
       "  <thead>\n",
       "    <tr style=\"text-align: right;\">\n",
       "      <th></th>\n",
       "      <th></th>\n",
       "      <th>abv</th>\n",
       "      <th>review_overall</th>\n",
       "      <th>review_appearance</th>\n",
       "      <th>review_palate</th>\n",
       "      <th>review_taste</th>\n",
       "    </tr>\n",
       "    <tr>\n",
       "      <th>brewer_id</th>\n",
       "      <th>beer_style</th>\n",
       "      <th></th>\n",
       "      <th></th>\n",
       "      <th></th>\n",
       "      <th></th>\n",
       "      <th></th>\n",
       "    </tr>\n",
       "  </thead>\n",
       "  <tbody>\n",
       "    <tr>\n",
       "      <th>1</th>\n",
       "      <th>Czech Pilsener</th>\n",
       "      <td>4.389286</td>\n",
       "      <td>3.875</td>\n",
       "      <td>3.589286</td>\n",
       "      <td>3.571429</td>\n",
       "      <td>3.660714</td>\n",
       "    </tr>\n",
       "    <tr>\n",
       "      <th rowspan=\"2\" valign=\"top\">3</th>\n",
       "      <th>American Adjunct Lager</th>\n",
       "      <td>4.200000</td>\n",
       "      <td>3.750</td>\n",
       "      <td>3.250000</td>\n",
       "      <td>3.500000</td>\n",
       "      <td>2.750000</td>\n",
       "    </tr>\n",
       "    <tr>\n",
       "      <th>American Amber / Red Ale</th>\n",
       "      <td>5.200000</td>\n",
       "      <td>3.750</td>\n",
       "      <td>3.694444</td>\n",
       "      <td>3.638889</td>\n",
       "      <td>3.611111</td>\n",
       "    </tr>\n",
       "    <tr>\n",
       "      <th>...</th>\n",
       "      <th>...</th>\n",
       "      <td>...</td>\n",
       "      <td>...</td>\n",
       "      <td>...</td>\n",
       "      <td>...</td>\n",
       "      <td>...</td>\n",
       "    </tr>\n",
       "    <tr>\n",
       "      <th>24964</th>\n",
       "      <th>American Malt Liquor</th>\n",
       "      <td>6.900000</td>\n",
       "      <td>3.250</td>\n",
       "      <td>3.000000</td>\n",
       "      <td>2.750000</td>\n",
       "      <td>3.250000</td>\n",
       "    </tr>\n",
       "    <tr>\n",
       "      <th>25680</th>\n",
       "      <th>Euro Pale Lager</th>\n",
       "      <td>5.300000</td>\n",
       "      <td>3.500</td>\n",
       "      <td>4.000000</td>\n",
       "      <td>3.500000</td>\n",
       "      <td>3.500000</td>\n",
       "    </tr>\n",
       "    <tr>\n",
       "      <th>27039</th>\n",
       "      <th>American Double / Imperial IPA</th>\n",
       "      <td>9.990000</td>\n",
       "      <td>4.750</td>\n",
       "      <td>4.500000</td>\n",
       "      <td>4.750000</td>\n",
       "      <td>4.750000</td>\n",
       "    </tr>\n",
       "  </tbody>\n",
       "</table>\n",
       "<p>7277 rows × 5 columns</p>\n",
       "</div>"
      ],
      "text/plain": [
       "                                               abv  review_overall  \\\n",
       "brewer_id beer_style                                                 \n",
       "1         Czech Pilsener                  4.389286           3.875   \n",
       "3         American Adjunct Lager          4.200000           3.750   \n",
       "          American Amber / Red Ale        5.200000           3.750   \n",
       "...                                            ...             ...   \n",
       "24964     American Malt Liquor            6.900000           3.250   \n",
       "25680     Euro Pale Lager                 5.300000           3.500   \n",
       "27039     American Double / Imperial IPA  9.990000           4.750   \n",
       "\n",
       "                                          review_appearance  review_palate  \\\n",
       "brewer_id beer_style                                                         \n",
       "1         Czech Pilsener                           3.589286       3.571429   \n",
       "3         American Adjunct Lager                   3.250000       3.500000   \n",
       "          American Amber / Red Ale                 3.694444       3.638889   \n",
       "...                                                     ...            ...   \n",
       "24964     American Malt Liquor                     3.000000       2.750000   \n",
       "25680     Euro Pale Lager                          4.000000       3.500000   \n",
       "27039     American Double / Imperial IPA           4.500000       4.750000   \n",
       "\n",
       "                                          review_taste  \n",
       "brewer_id beer_style                                    \n",
       "1         Czech Pilsener                      3.660714  \n",
       "3         American Adjunct Lager              2.750000  \n",
       "          American Amber / Red Ale            3.611111  \n",
       "...                                                ...  \n",
       "24964     American Malt Liquor                3.250000  \n",
       "25680     Euro Pale Lager                     3.500000  \n",
       "27039     American Double / Imperial IPA      4.750000  \n",
       "\n",
       "[7277 rows x 5 columns]"
      ]
     },
     "execution_count": 35,
     "metadata": {},
     "output_type": "execute_result"
    }
   ],
   "source": [
    "df.groupby(['brewer_id', 'beer_style'])[review_columns].mean()"
   ]
  },
  {
   "cell_type": "markdown",
   "metadata": {
    "slideshow": {
     "slide_type": "slide"
    }
   },
   "source": [
    "### Exercise: Plot the relationship between review length (the `text` column) and average `review_overall`.\n",
    "\n",
    "- Find the **len**gth of each reivew (remember the `df.text.str` namespace?)\n",
    "- Group by that Series of review lengths\n",
    "- Using the '.k' plotting style"
   ]
  },
  {
   "cell_type": "code",
   "execution_count": 36,
   "metadata": {
    "collapsed": false,
    "slideshow": {
     "slide_type": "subslide"
    }
   },
   "outputs": [
    {
     "data": {
      "text/plain": [
       "<matplotlib.axes._subplots.AxesSubplot at 0x12a04d290>"
      ]
     },
     "execution_count": 36,
     "metadata": {},
     "output_type": "execute_result"
    },
    {
     "data": {
      "image/png": "[encoded data removed]",
      "text/plain": [
       "<matplotlib.figure.Figure at 0x121ae6810>"
      ]
     },
     "metadata": {},
     "output_type": "display_data"
    }
   ],
   "source": [
    "(df.groupby(df.text.str.len())\n",
    "   .review_overall\n",
    "   .mean()\n",
    "   .plot(style='.k')\n",
    " )\n"
   ]
  },
  {
   "cell_type": "markdown",
   "metadata": {
    "slideshow": {
     "slide_type": "subslide"
    }
   },
   "source": [
    "## What are we doing"
   ]
  },
  {
   "cell_type": "code",
   "execution_count": 37,
   "metadata": {
    "collapsed": false,
    "slideshow": {
     "slide_type": "fragment"
    }
   },
   "outputs": [
    {
     "data": {
      "text/plain": [
       "0         364\n",
       "1         590\n",
       "2        1786\n",
       "         ... \n",
       "49997     714\n",
       "49998     427\n",
       "49999    1018\n",
       "Name: text, dtype: float64"
      ]
     },
     "execution_count": 37,
     "metadata": {},
     "output_type": "execute_result"
    }
   ],
   "source": [
    "df.text.str.len()"
   ]
  },
  {
   "cell_type": "code",
   "execution_count": 38,
   "metadata": {
    "collapsed": false,
    "slideshow": {
     "slide_type": "fragment"
    }
   },
   "outputs": [
    {
     "data": {
      "text/plain": [
       "2200"
      ]
     },
     "execution_count": 38,
     "metadata": {},
     "output_type": "execute_result"
    }
   ],
   "source": [
    "df.groupby(df.text.str.len()).ngroups"
   ]
  },
  {
   "cell_type": "markdown",
   "metadata": {
    "slideshow": {
     "slide_type": "slide"
    }
   },
   "source": [
    "# Categorizing beer\n",
    "\n",
    "Create our own \"kind\" of beer, which aggregates `style`."
   ]
  },
  {
   "cell_type": "code",
   "execution_count": 39,
   "metadata": {
    "collapsed": false,
    "slideshow": {
     "slide_type": "subslide"
    }
   },
   "outputs": [
    {
     "data": {
      "text/plain": [
       "0                          american stout\n",
       "1                         american porter\n",
       "2                         german pilsener\n",
       "                       ...               \n",
       "49997    american double / imperial stout\n",
       "49998                    english pale ale\n",
       "49999              russian imperial stout\n",
       "Name: beer_style, dtype: object"
      ]
     },
     "execution_count": 39,
     "metadata": {},
     "output_type": "execute_result"
    }
   ],
   "source": [
    "style = df.beer_style.str.lower()\n",
    "style"
   ]
  },
  {
   "cell_type": "code",
   "execution_count": 40,
   "metadata": {
    "collapsed": true,
    "slideshow": {
     "slide_type": "subslide"
    }
   },
   "outputs": [],
   "source": [
    "kinds = ['ipa', 'apa', 'amber ale', 'rye', 'scotch', 'stout', 'barleywine', 'porter', 'brown ale', 'lager', 'pilsner',\n",
    "         'tripel', 'biter', 'farmhouse', 'malt liquour', 'rice']"
   ]
  },
  {
   "cell_type": "code",
   "execution_count": 41,
   "metadata": {
    "collapsed": false
   },
   "outputs": [
    {
     "data": {
      "text/plain": [
       "'(?P<ipa>ipa)|(?P<apa>apa)|(?P<amber_ale>amber ale)|(?P<rye>rye)|(?P<scotch>scotch)|(?P<stout>stout)|(?P<barleywine>barleywine)|(?P<porter>porter)|(?P<brown_ale>brown ale)|(?P<lager>lager)|(?P<pilsner>pilsner)|(?P<tripel>tripel)|(?P<biter>biter)|(?P<farmhouse>farmhouse)|(?P<malt_liquour>malt liquour)|(?P<rice>rice)'"
      ]
     },
     "execution_count": 41,
     "metadata": {},
     "output_type": "execute_result"
    }
   ],
   "source": [
    "expr = '|'.join(['(?P<{name}>{pat})'.format(pat=kind, \n",
    "                                            name=kind.replace(' ', '_')\n",
    "                                           ) for kind in kinds])\n",
    "expr"
   ]
  },
  {
   "cell_type": "code",
   "execution_count": 42,
   "metadata": {
    "collapsed": false,
    "slideshow": {
     "slide_type": "subslide"
    }
   },
   "outputs": [
    {
     "data": {
      "text/plain": [
       "0         stout\n",
       "1        porter\n",
       "2         other\n",
       "          ...  \n",
       "49997     stout\n",
       "49998     other\n",
       "49999     stout\n",
       "dtype: object"
      ]
     },
     "execution_count": 42,
     "metadata": {},
     "output_type": "execute_result"
    }
   ],
   "source": [
    "beer_kind = (style.replace({'india pale ale': 'ipa',\n",
    "                            'american pale ale': 'apa'})\n",
    "            .str.extract(expr)\n",
    "            .fillna('').sum(1)\n",
    "            .str.lower().replace('', 'other'))\n",
    "beer_kind"
   ]
  },
  {
   "cell_type": "code",
   "execution_count": 43,
   "metadata": {
    "collapsed": false,
    "slideshow": {
     "slide_type": "subslide"
    }
   },
   "outputs": [
    {
     "data": {
      "text/plain": [
       "0         stout\n",
       "1        porter\n",
       "2         other\n",
       "          ...  \n",
       "49997     stout\n",
       "49998     other\n",
       "49999     stout\n",
       "Name: type, dtype: category\n",
       "Categories (13, object): [apa, barleywine, brown ale, farmhouse, ..., rye, scotch, stout, tripel]"
      ]
     },
     "execution_count": 43,
     "metadata": {},
     "output_type": "execute_result"
    }
   ],
   "source": [
    "beer_kind = beer_kind.astype('category')\n",
    "beer_kind.name = 'type'\n",
    "beer_kind"
   ]
  },
  {
   "cell_type": "code",
   "execution_count": 44,
   "metadata": {
    "collapsed": false,
    "slideshow": {
     "slide_type": "subslide"
    }
   },
   "outputs": [
    {
     "data": {
      "text/plain": [
       "brewer_id  type     \n",
       "1          other        3.875000\n",
       "3          apa          3.285714\n",
       "           brown ale    3.530000\n",
       "                          ...   \n",
       "24964      other        3.250000\n",
       "25680      lager        3.500000\n",
       "27039      ipa          4.750000\n",
       "Name: review_overall, dtype: float64"
      ]
     },
     "execution_count": 44,
     "metadata": {},
     "output_type": "execute_result"
    }
   ],
   "source": [
    "df.groupby(['brewer_id', beer_kind]).review_overall.mean()"
   ]
  },
  {
   "cell_type": "code",
   "execution_count": 45,
   "metadata": {
    "collapsed": false,
    "slideshow": {
     "slide_type": "subslide"
    }
   },
   "outputs": [
    {
     "name": "stderr",
     "output_type": "stream",
     "text": [
      "/Users/jreback/miniconda/lib/python2.7/site-packages/matplotlib/__init__.py:892: UserWarning: axes.color_cycle is deprecated and replaced with axes.prop_cycle; please use the latter.\n",
      "  warnings.warn(self.msg_depr % (key, alt_key))\n"
     ]
    },
    {
     "data": {
      "text/plain": [
       "<matplotlib.axes._subplots.AxesSubplot at 0x12a3b69d0>"
      ]
     },
     "execution_count": 45,
     "metadata": {},
     "output_type": "execute_result"
    },
    {
     "data": {
      "image/png": "[encoded data removed]",
      "text/plain": [
       "<matplotlib.figure.Figure at 0x12a35e350>"
      ]
     },
     "metadata": {},
     "output_type": "display_data"
    }
   ],
   "source": [
    "(df\n",
    "   .assign(beer_kind = beer_kind)\n",
    "   .assign(relative_abv = df.abv-df.groupby(beer_kind).abv.transform('mean'))\n",
    "  [['beer_kind','review_overall','abv']]\n",
    "   .pipe((sns.stripplot,'data'), x='beer_kind',y='abv',hue='review_overall')\n",
    " )\n"
   ]
  },
  {
   "cell_type": "markdown",
   "metadata": {
    "slideshow": {
     "slide_type": "slide"
    }
   },
   "source": [
    "We've seen a lot of permutations among number of groupers, number of columns to aggregate, and number of aggregators.\n",
    "In fact, the `.agg`, which returns one row per group, is just one kind of way to combine the results. The three ways are\n",
    "\n",
    "- `agg`: one row per results\n",
    "- `transform`: identicaly shaped output as input\n",
    "- `apply`: anything goes\n"
   ]
  },
  {
   "cell_type": "markdown",
   "metadata": {
    "slideshow": {
     "slide_type": "slide"
    }
   },
   "source": [
    "# Transform"
   ]
  },
  {
   "cell_type": "markdown",
   "metadata": {},
   "source": [
    "Combined Series / DataFrame is the same shape as the input. For example, say you want to standardize the reviews by subtracting the mean."
   ]
  },
  {
   "cell_type": "code",
   "execution_count": 46,
   "metadata": {
    "collapsed": true,
    "slideshow": {
     "slide_type": "subslide"
    }
   },
   "outputs": [],
   "source": [
    "def de_mean(reviews):\n",
    "    s = reviews - reviews.mean()\n",
    "    return s"
   ]
  },
  {
   "cell_type": "code",
   "execution_count": 47,
   "metadata": {
    "collapsed": false,
    "slideshow": {
     "slide_type": "fragment"
    }
   },
   "outputs": [
    {
     "data": {
      "text/plain": [
       "0        0.65018\n",
       "1        0.65018\n",
       "2       -0.84982\n",
       "          ...   \n",
       "49997    1.15018\n",
       "49998    0.15018\n",
       "49999    1.15018\n",
       "Name: review_overall, dtype: float64"
      ]
     },
     "execution_count": 47,
     "metadata": {},
     "output_type": "execute_result"
    }
   ],
   "source": [
    "de_mean(df.review_overall)"
   ]
  },
  {
   "cell_type": "markdown",
   "metadata": {
    "slideshow": {
     "slide_type": "subslide"
    }
   },
   "source": [
    "We can do this at the *person* level with `groupby` and `transform`."
   ]
  },
  {
   "cell_type": "code",
   "execution_count": 48,
   "metadata": {
    "collapsed": false,
    "slideshow": {
     "slide_type": "fragment"
    }
   },
   "outputs": [
    {
     "data": {
      "text/html": [
       "<div>\n",
       "<table border=\"1\" class=\"dataframe\">\n",
       "  <thead>\n",
       "    <tr style=\"text-align: right;\">\n",
       "      <th></th>\n",
       "      <th>abv</th>\n",
       "      <th>beer_id</th>\n",
       "      <th>brewer_id</th>\n",
       "      <th>...</th>\n",
       "      <th>review_overall</th>\n",
       "      <th>review_palate</th>\n",
       "      <th>review_taste</th>\n",
       "    </tr>\n",
       "  </thead>\n",
       "  <tbody>\n",
       "    <tr>\n",
       "      <th>0</th>\n",
       "      <td>-2.763000</td>\n",
       "      <td>-14386.800000</td>\n",
       "      <td>-250.800000</td>\n",
       "      <td>...</td>\n",
       "      <td>0.500000</td>\n",
       "      <td>-0.100000</td>\n",
       "      <td>0.450000</td>\n",
       "    </tr>\n",
       "    <tr>\n",
       "      <th>1</th>\n",
       "      <td>-1.501563</td>\n",
       "      <td>-12613.333333</td>\n",
       "      <td>3168.025641</td>\n",
       "      <td>...</td>\n",
       "      <td>0.397436</td>\n",
       "      <td>0.038462</td>\n",
       "      <td>-0.012821</td>\n",
       "    </tr>\n",
       "    <tr>\n",
       "      <th>2</th>\n",
       "      <td>-2.072727</td>\n",
       "      <td>-10567.348485</td>\n",
       "      <td>805.833333</td>\n",
       "      <td>...</td>\n",
       "      <td>-0.803030</td>\n",
       "      <td>-0.568182</td>\n",
       "      <td>-0.287879</td>\n",
       "    </tr>\n",
       "    <tr>\n",
       "      <th>...</th>\n",
       "      <td>...</td>\n",
       "      <td>...</td>\n",
       "      <td>...</td>\n",
       "      <td>...</td>\n",
       "      <td>...</td>\n",
       "      <td>...</td>\n",
       "      <td>...</td>\n",
       "    </tr>\n",
       "    <tr>\n",
       "      <th>49997</th>\n",
       "      <td>0.400000</td>\n",
       "      <td>4817.388889</td>\n",
       "      <td>1236.833333</td>\n",
       "      <td>...</td>\n",
       "      <td>0.916667</td>\n",
       "      <td>0.777778</td>\n",
       "      <td>0.555556</td>\n",
       "    </tr>\n",
       "    <tr>\n",
       "      <th>49998</th>\n",
       "      <td>-1.625862</td>\n",
       "      <td>-36774.032258</td>\n",
       "      <td>-4302.516129</td>\n",
       "      <td>...</td>\n",
       "      <td>-0.112903</td>\n",
       "      <td>-0.838710</td>\n",
       "      <td>-0.774194</td>\n",
       "    </tr>\n",
       "    <tr>\n",
       "      <th>49999</th>\n",
       "      <td>2.165500</td>\n",
       "      <td>20759.950000</td>\n",
       "      <td>12161.450000</td>\n",
       "      <td>...</td>\n",
       "      <td>0.925000</td>\n",
       "      <td>0.575000</td>\n",
       "      <td>0.375000</td>\n",
       "    </tr>\n",
       "  </tbody>\n",
       "</table>\n",
       "<p>50000 rows × 8 columns</p>\n",
       "</div>"
      ],
      "text/plain": [
       "            abv       beer_id     brewer_id      ...       review_overall  \\\n",
       "0     -2.763000 -14386.800000   -250.800000      ...             0.500000   \n",
       "1     -1.501563 -12613.333333   3168.025641      ...             0.397436   \n",
       "2     -2.072727 -10567.348485    805.833333      ...            -0.803030   \n",
       "...         ...           ...           ...      ...                  ...   \n",
       "49997  0.400000   4817.388889   1236.833333      ...             0.916667   \n",
       "49998 -1.625862 -36774.032258  -4302.516129      ...            -0.112903   \n",
       "49999  2.165500  20759.950000  12161.450000      ...             0.925000   \n",
       "\n",
       "       review_palate  review_taste  \n",
       "0          -0.100000      0.450000  \n",
       "1           0.038462     -0.012821  \n",
       "2          -0.568182     -0.287879  \n",
       "...              ...           ...  \n",
       "49997       0.777778      0.555556  \n",
       "49998      -0.838710     -0.774194  \n",
       "49999       0.575000      0.375000  \n",
       "\n",
       "[50000 rows x 8 columns]"
      ]
     },
     "execution_count": 48,
     "metadata": {},
     "output_type": "execute_result"
    }
   ],
   "source": [
    "df.groupby('profile_name').transform(de_mean)"
   ]
  },
  {
   "cell_type": "markdown",
   "metadata": {
    "slideshow": {
     "slide_type": "subslide"
    }
   },
   "source": [
    "Oftentimes is better to work with the groupby object directly"
   ]
  },
  {
   "cell_type": "code",
   "execution_count": 49,
   "metadata": {
    "collapsed": false,
    "slideshow": {
     "slide_type": "fragment"
    }
   },
   "outputs": [
    {
     "data": {
      "text/html": [
       "<div>\n",
       "<table border=\"1\" class=\"dataframe\">\n",
       "  <thead>\n",
       "    <tr style=\"text-align: right;\">\n",
       "      <th></th>\n",
       "      <th>abv</th>\n",
       "      <th>beer_id</th>\n",
       "      <th>brewer_id</th>\n",
       "      <th>...</th>\n",
       "      <th>review_overall</th>\n",
       "      <th>review_palate</th>\n",
       "      <th>review_taste</th>\n",
       "    </tr>\n",
       "  </thead>\n",
       "  <tbody>\n",
       "    <tr>\n",
       "      <th>0</th>\n",
       "      <td>-2.763000</td>\n",
       "      <td>-14386.800000</td>\n",
       "      <td>-250.800000</td>\n",
       "      <td>...</td>\n",
       "      <td>0.500000</td>\n",
       "      <td>-0.100000</td>\n",
       "      <td>0.450000</td>\n",
       "    </tr>\n",
       "    <tr>\n",
       "      <th>1</th>\n",
       "      <td>-1.501563</td>\n",
       "      <td>-12613.333333</td>\n",
       "      <td>3168.025641</td>\n",
       "      <td>...</td>\n",
       "      <td>0.397436</td>\n",
       "      <td>0.038462</td>\n",
       "      <td>-0.012821</td>\n",
       "    </tr>\n",
       "    <tr>\n",
       "      <th>2</th>\n",
       "      <td>-2.072727</td>\n",
       "      <td>-10567.348485</td>\n",
       "      <td>805.833333</td>\n",
       "      <td>...</td>\n",
       "      <td>-0.803030</td>\n",
       "      <td>-0.568182</td>\n",
       "      <td>-0.287879</td>\n",
       "    </tr>\n",
       "    <tr>\n",
       "      <th>...</th>\n",
       "      <td>...</td>\n",
       "      <td>...</td>\n",
       "      <td>...</td>\n",
       "      <td>...</td>\n",
       "      <td>...</td>\n",
       "      <td>...</td>\n",
       "      <td>...</td>\n",
       "    </tr>\n",
       "    <tr>\n",
       "      <th>49997</th>\n",
       "      <td>0.400000</td>\n",
       "      <td>4817.388889</td>\n",
       "      <td>1236.833333</td>\n",
       "      <td>...</td>\n",
       "      <td>0.916667</td>\n",
       "      <td>0.777778</td>\n",
       "      <td>0.555556</td>\n",
       "    </tr>\n",
       "    <tr>\n",
       "      <th>49998</th>\n",
       "      <td>-1.625862</td>\n",
       "      <td>-36774.032258</td>\n",
       "      <td>-4302.516129</td>\n",
       "      <td>...</td>\n",
       "      <td>-0.112903</td>\n",
       "      <td>-0.838710</td>\n",
       "      <td>-0.774194</td>\n",
       "    </tr>\n",
       "    <tr>\n",
       "      <th>49999</th>\n",
       "      <td>2.165500</td>\n",
       "      <td>20759.950000</td>\n",
       "      <td>12161.450000</td>\n",
       "      <td>...</td>\n",
       "      <td>0.925000</td>\n",
       "      <td>0.575000</td>\n",
       "      <td>0.375000</td>\n",
       "    </tr>\n",
       "  </tbody>\n",
       "</table>\n",
       "<p>50000 rows × 8 columns</p>\n",
       "</div>"
      ],
      "text/plain": [
       "            abv       beer_id     brewer_id      ...       review_overall  \\\n",
       "0     -2.763000 -14386.800000   -250.800000      ...             0.500000   \n",
       "1     -1.501563 -12613.333333   3168.025641      ...             0.397436   \n",
       "2     -2.072727 -10567.348485    805.833333      ...            -0.803030   \n",
       "...         ...           ...           ...      ...                  ...   \n",
       "49997  0.400000   4817.388889   1236.833333      ...             0.916667   \n",
       "49998 -1.625862 -36774.032258  -4302.516129      ...            -0.112903   \n",
       "49999  2.165500  20759.950000  12161.450000      ...             0.925000   \n",
       "\n",
       "       review_palate  review_taste  \n",
       "0          -0.100000      0.450000  \n",
       "1           0.038462     -0.012821  \n",
       "2          -0.568182     -0.287879  \n",
       "...              ...           ...  \n",
       "49997       0.777778      0.555556  \n",
       "49998      -0.838710     -0.774194  \n",
       "49999       0.575000      0.375000  \n",
       "\n",
       "[50000 rows x 8 columns]"
      ]
     },
     "execution_count": 49,
     "metadata": {},
     "output_type": "execute_result"
    }
   ],
   "source": [
    "(df-df.groupby('profile_name').transform('mean')).select_dtypes(exclude=['object'])"
   ]
  }
 ],
 "metadata": {
  "celltoolbar": "Slideshow",
  "kernelspec": {
   "display_name": "Python 2",
   "language": "python",
   "name": "python2"
  },
  "language_info": {
   "codemirror_mode": {
    "name": "ipython",
    "version": 2
   },
   "file_extension": ".py",
   "mimetype": "text/x-python",
   "name": "python",
   "nbconvert_exporter": "python",
   "pygments_lexer": "ipython2",
   "version": "2.7.10"
  }
 },
 "nbformat": 4,
 "nbformat_minor": 0
}
