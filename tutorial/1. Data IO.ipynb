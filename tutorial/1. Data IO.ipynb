{
 "cells": [
  {
   "cell_type": "markdown",
   "metadata": {
    "slideshow": {
     "slide_type": "slide"
    }
   },
   "source": [
    "# Importing Data"
   ]
  },
  {
   "cell_type": "code",
   "execution_count": 1,
   "metadata": {
    "collapsed": false,
    "slideshow": {
     "slide_type": "fragment"
    }
   },
   "outputs": [
    {
     "data": {
      "text/plain": [
       "u'0.17.0'"
      ]
     },
     "execution_count": 1,
     "metadata": {},
     "output_type": "execute_result"
    }
   ],
   "source": [
    "import numpy as np\n",
    "import pandas as pd\n",
    "pd.options.display.max_rows = 12\n",
    "pd.options.display.max_columns = 10\n",
    "pd.__version__"
   ]
  },
  {
   "cell_type": "markdown",
   "metadata": {
    "slideshow": {
     "slide_type": "slide"
    }
   },
   "source": [
    "We often times have a variety of input data.\n",
    "\n",
    "- CSV\n",
    "- Excel\n",
    "- SQL\n",
    "- JSON\n",
    "- HDF5\n",
    "- pickle\n",
    "- msgpack\n",
    "- Stata\n",
    "- BigQuery"
   ]
  },
  {
   "cell_type": "markdown",
   "metadata": {
    "slideshow": {
     "slide_type": "subslide"
    }
   },
   "source": [
    "This is subset of the data from beeradvocate.com, via [Standford](https://snap.stanford.edu/data/web-RateBeer.html). It's strangely formatted.\n",
    "\n",
    "<p style=\"font-size:20px\"; style=font-family:Courier>\n",
    "beer/name: Sausa Weizen<br>\n",
    "beer/beerI: 47986<br>\n",
    "beer/brewerId: 10325<br>\n",
    "beer/ABV: 5.00<br>\n",
    "beer/style: Hefeweizen<br>\n",
    "review/appearance: 2.5<br>\n",
    "review/aroma: 2<br>\n",
    "review/time: 1234817823<br>\n",
    "review/profileName: stcules<br>\n",
    "review/text: A lot of foam. But a lot.\tIn the smell some banana, and then lactic and tart. Not a good start.\tQuite dark orange in color, with a lively carbonation (now visible, under the foam).\tAgain tending to lactic sourness.\tSame for the taste. With some yeast and banana.<br>\n",
    "<br>\n",
    "beer/name: Red Moon<br>\n",
    "beer/beerId: 48213<br>\n",
    "beer/brewerId: 10325<br>\n",
    "beer/ABV: 6.20<br>\n",
    " ...<br>\n",
    "</p>\n"
   ]
  },
  {
   "cell_type": "markdown",
   "metadata": {
    "slideshow": {
     "slide_type": "subslide"
    }
   },
   "source": [
    "\n",
    "The dataset was a bit large to processess all at once\n",
    "\n",
    "```bash\n",
    "$ wc -l beeradvocate.txt\n",
    " 22212596 beeradvocate.txt\n",
    "```"
   ]
  },
  {
   "cell_type": "code",
   "execution_count": 2,
   "metadata": {
    "collapsed": false,
    "slideshow": {
     "slide_type": "subslide"
    }
   },
   "outputs": [],
   "source": [
    "import toolz\n",
    "\n",
    "def format_review(review):\n",
    "    return dict(map(lambda x: x.strip().split(\": \", 1), review))\n",
    "\n",
    "def as_dataframe(reviews):\n",
    "    col_names = {\n",
    "        'beer/ABV': 'abv', \n",
    "        'beer/beerId': 'beer_id', \n",
    "        'beer/brewerId': 'brewer_id',\n",
    "        'beer/name': 'beer_name', \n",
    "        'beer/style': 'beer_style',\n",
    "        'review/appearance': 'review_appearance', \n",
    "        'review/aroma': 'review_aroma',\n",
    "        'review/overall': 'review_overll', \n",
    "        'review/palate': 'review_palate',\n",
    "        'review/profileName': 'profile_name', \n",
    "        'review/taste': 'review_taste',\n",
    "        'review/text': 'text',\n",
    "        'review/time': 'time'\n",
    "    }\n",
    "    df = pd.DataFrame(list(reviews))\n",
    "    numeric = ['abv', 'review_appearance', 'review_aroma',\n",
    "               'review_overall', 'review_palate', 'review_taste']\n",
    "    df = (df.rename(columns=col_names)\n",
    "            .replace('', np.nan))\n",
    "    df[numeric] = df[numeric].astype(float)\n",
    "    df['time'] = pd.to_datetime(df.time.astype(int), unit='s')\n",
    "    return df"
   ]
  },
  {
   "cell_type": "code",
   "execution_count": 2,
   "metadata": {
    "collapsed": false,
    "slideshow": {
     "slide_type": "subslide"
    }
   },
   "outputs": [],
   "source": [
    "from toolz import partitionby, partition\n",
    "def main():\n",
    "    with open('beeradvocate.txt') as f:\n",
    "        reviews = filter(lambda x: x != ('\\n',),\n",
    "                         partitionby(lambda x: x == '\\n', f))\n",
    "        reviews = map(format_review, reviews)\n",
    "        reviews = partition(100000, reviews, pad=None)\n",
    "        reviews = filter(None, reviews)\n",
    "        os.makedirs('beer_reviews', exist_ok=True)\n",
    "        for i, subset in enumerate(reviews):\n",
    "            #print(i, end='\\r')\n",
    "            df = as_dataframe(subset)\n",
    "            df.to_csv('beer_reviews/review_%s.csv' % i, index=False)\n",
    "            "
   ]
  },
  {
   "cell_type": "markdown",
   "metadata": {
    "slideshow": {
     "slide_type": "slide"
    }
   },
   "source": [
    "# Bootstrap\n",
    "\n",
    "Let's get the data"
   ]
  },
  {
   "cell_type": "code",
   "execution_count": 4,
   "metadata": {
    "collapsed": true,
    "slideshow": {
     "slide_type": "subslide"
    }
   },
   "outputs": [],
   "source": [
    "df = pd.read_csv('data/beer2.csv.gz', \n",
    "                 index_col=0,\n",
    "                 parse_dates=['time'])"
   ]
  },
  {
   "cell_type": "code",
   "execution_count": 5,
   "metadata": {
    "collapsed": false,
    "slideshow": {
     "slide_type": "fragment"
    }
   },
   "outputs": [
    {
     "name": "stdout",
     "output_type": "stream",
     "text": [
      "<class 'pandas.core.frame.DataFrame'>\n",
      "Int64Index: 50000 entries, 0 to 49999\n",
      "Data columns (total 13 columns):\n",
      "abv                  48389 non-null float64\n",
      "beer_id              50000 non-null int64\n",
      "brewer_id            50000 non-null int64\n",
      "beer_name            50000 non-null object\n",
      "beer_style           50000 non-null object\n",
      "review_appearance    50000 non-null float64\n",
      "review_aroma         50000 non-null float64\n",
      "review_overall       50000 non-null float64\n",
      "review_palate        50000 non-null float64\n",
      "profile_name         50000 non-null object\n",
      "review_taste         50000 non-null float64\n",
      "text                 49991 non-null object\n",
      "time                 50000 non-null datetime64[ns]\n",
      "dtypes: datetime64[ns](1), float64(6), int64(2), object(4)\n",
      "memory usage: 5.3+ MB\n"
     ]
    }
   ],
   "source": [
    "df.info()"
   ]
  },
  {
   "cell_type": "markdown",
   "metadata": {
    "slideshow": {
     "slide_type": "slide"
    }
   },
   "source": [
    "# CSV"
   ]
  },
  {
   "cell_type": "markdown",
   "metadata": {},
   "source": [
    "http://pandas.pydata.org/pandas-docs/stable/io.html#csv-text-files"
   ]
  },
  {
   "cell_type": "code",
   "execution_count": 6,
   "metadata": {
    "collapsed": false
   },
   "outputs": [],
   "source": [
    "df.to_csv('data/beer.csv',index=False)"
   ]
  },
  {
   "cell_type": "code",
   "execution_count": 7,
   "metadata": {
    "collapsed": false
   },
   "outputs": [],
   "source": [
    "data = pd.read_csv('data/beer.csv', \n",
    "                    parse_dates=['time'])"
   ]
  },
  {
   "cell_type": "markdown",
   "metadata": {
    "slideshow": {
     "slide_type": "slide"
    }
   },
   "source": [
    "# Excel"
   ]
  },
  {
   "cell_type": "markdown",
   "metadata": {},
   "source": [
    "http://pandas.pydata.org/pandas-docs/stable/io.html#excel-files"
   ]
  },
  {
   "cell_type": "code",
   "execution_count": 8,
   "metadata": {
    "collapsed": false,
    "slideshow": {
     "slide_type": "subslide"
    }
   },
   "outputs": [
    {
     "name": "stdout",
     "output_type": "stream",
     "text": [
      "<class 'pandas.core.frame.DataFrame'>\n",
      "Int64Index: 50000 entries, 0 to 49999\n",
      "Data columns (total 13 columns):\n",
      "abv                  48389 non-null float64\n",
      "beer_id              50000 non-null int64\n",
      "brewer_id            50000 non-null int64\n",
      "beer_name            47699 non-null object\n",
      "beer_style           48370 non-null object\n",
      "review_appearance    50000 non-null float64\n",
      "review_aroma         50000 non-null float64\n",
      "review_overall       50000 non-null float64\n",
      "review_palate        50000 non-null float64\n",
      "profile_name         50000 non-null object\n",
      "review_taste         50000 non-null float64\n",
      "text                 49991 non-null object\n",
      "time                 50000 non-null datetime64[ns]\n",
      "dtypes: datetime64[ns](1), float64(6), int64(2), object(4)\n",
      "memory usage: 5.3+ MB\n"
     ]
    }
   ],
   "source": [
    "# remove unicode\n",
    "dfu = (pd.concat([df.select_dtypes(include=['object'])\n",
    "                    .apply(lambda x: \n",
    "                               x.str.decode('ascii','xmlcharrefreplace')),\n",
    "                  df.select_dtypes(exclude=['object'])],axis=1)\n",
    "        .reindex(columns=df.columns))\n",
    "dfu.info()"
   ]
  },
  {
   "cell_type": "code",
   "execution_count": 9,
   "metadata": {
    "collapsed": false,
    "slideshow": {
     "slide_type": "fragment"
    }
   },
   "outputs": [],
   "source": [
    "dfu.to_excel('data/beer.xls',index=False)"
   ]
  },
  {
   "cell_type": "code",
   "execution_count": 10,
   "metadata": {
    "collapsed": false,
    "slideshow": {
     "slide_type": "-"
    }
   },
   "outputs": [],
   "source": [
    "data = pd.read_excel('data/beer.xls', sheetnames=[0])"
   ]
  },
  {
   "cell_type": "markdown",
   "metadata": {
    "slideshow": {
     "slide_type": "slide"
    }
   },
   "source": [
    "# SQL"
   ]
  },
  {
   "cell_type": "markdown",
   "metadata": {},
   "source": [
    "http://pandas.pydata.org/pandas-docs/stable/io.html#sql-queries"
   ]
  },
  {
   "cell_type": "code",
   "execution_count": 11,
   "metadata": {
    "collapsed": false,
    "slideshow": {
     "slide_type": "fragment"
    }
   },
   "outputs": [],
   "source": [
    "from sqlalchemy import create_engine\n",
    "!rm -f data/beer.sqlite\n",
    "engine = create_engine('sqlite:///data/beer.sqlite')"
   ]
  },
  {
   "cell_type": "code",
   "execution_count": 12,
   "metadata": {
    "collapsed": false,
    "slideshow": {
     "slide_type": "fragment"
    }
   },
   "outputs": [],
   "source": [
    "dfu.to_sql('table',engine)"
   ]
  },
  {
   "cell_type": "code",
   "execution_count": 13,
   "metadata": {
    "collapsed": false
   },
   "outputs": [],
   "source": [
    "data = pd.read_sql('table',engine)"
   ]
  },
  {
   "cell_type": "markdown",
   "metadata": {
    "slideshow": {
     "slide_type": "slide"
    }
   },
   "source": [
    "# JSON"
   ]
  },
  {
   "cell_type": "markdown",
   "metadata": {},
   "source": [
    "http://pandas.pydata.org/pandas-docs/stable/io.html#json"
   ]
  },
  {
   "cell_type": "code",
   "execution_count": 14,
   "metadata": {
    "collapsed": true
   },
   "outputs": [],
   "source": [
    "df.to_json('data/beer.json')"
   ]
  },
  {
   "cell_type": "code",
   "execution_count": 15,
   "metadata": {
    "collapsed": true
   },
   "outputs": [],
   "source": [
    "data = pd.read_json('data/beer.json')"
   ]
  },
  {
   "cell_type": "markdown",
   "metadata": {
    "slideshow": {
     "slide_type": "slide"
    }
   },
   "source": [
    "# HDF"
   ]
  },
  {
   "cell_type": "markdown",
   "metadata": {},
   "source": [
    "http://pandas.pydata.org/pandas-docs/stable/io.html#hdf5-pytables"
   ]
  },
  {
   "cell_type": "code",
   "execution_count": 16,
   "metadata": {
    "collapsed": false,
    "slideshow": {
     "slide_type": "fragment"
    }
   },
   "outputs": [
    {
     "name": "stderr",
     "output_type": "stream",
     "text": [
      "/Users/jreback/miniconda/lib/python2.7/site-packages/pandas/core/generic.py:938: PerformanceWarning: \n",
      "your performance may suffer as PyTables will pickle object types that it cannot\n",
      "map directly to c-types [inferred_type->mixed,key->block2_values] [items->['beer_name', 'beer_style', 'profile_name', 'text']]\n",
      "\n",
      "  return pytables.to_hdf(path_or_buf, key, self, **kwargs)\n"
     ]
    }
   ],
   "source": [
    "# fixed format\n",
    "dfu.to_hdf('data/beer.hdf',\n",
    "           'df',\n",
    "           mode='w',\n",
    "           format='fixed')"
   ]
  },
  {
   "cell_type": "code",
   "execution_count": 17,
   "metadata": {
    "collapsed": false
   },
   "outputs": [],
   "source": [
    "data = pd.read_hdf('data/beer.hdf','df')"
   ]
  },
  {
   "cell_type": "code",
   "execution_count": 18,
   "metadata": {
    "collapsed": false,
    "slideshow": {
     "slide_type": "subslide"
    }
   },
   "outputs": [
    {
     "data": {
      "text/plain": [
       "count    49991.000000\n",
       "mean       733.792003\n",
       "std        392.219226\n",
       "min         16.000000\n",
       "25%        458.000000\n",
       "50%        642.000000\n",
       "75%        900.000000\n",
       "max       4902.000000\n",
       "Name: text, dtype: float64"
      ]
     },
     "execution_count": 18,
     "metadata": {},
     "output_type": "execute_result"
    }
   ],
   "source": [
    "# wildly varying strings\n",
    "df.text.str.len().describe()"
   ]
  },
  {
   "cell_type": "markdown",
   "metadata": {
    "slideshow": {
     "slide_type": "slide"
    }
   },
   "source": [
    "# Timings"
   ]
  },
  {
   "cell_type": "code",
   "execution_count": 19,
   "metadata": {
    "collapsed": false,
    "slideshow": {
     "slide_type": "fragment"
    }
   },
   "outputs": [
    {
     "name": "stdout",
     "output_type": "stream",
     "text": [
      "1 loops, best of 3: 2.62 s per loop\n"
     ]
    }
   ],
   "source": [
    "%timeit pd.read_excel('data/beer.xls', sheetnames=[0])"
   ]
  },
  {
   "cell_type": "code",
   "execution_count": 20,
   "metadata": {
    "collapsed": false,
    "slideshow": {
     "slide_type": "fragment"
    }
   },
   "outputs": [
    {
     "name": "stdout",
     "output_type": "stream",
     "text": [
      "1 loops, best of 3: 757 ms per loop\n"
     ]
    }
   ],
   "source": [
    "%timeit pd.read_sql('table', engine)"
   ]
  },
  {
   "cell_type": "code",
   "execution_count": 21,
   "metadata": {
    "collapsed": false,
    "slideshow": {
     "slide_type": "fragment"
    }
   },
   "outputs": [
    {
     "name": "stdout",
     "output_type": "stream",
     "text": [
      "1 loops, best of 3: 1.17 s per loop\n"
     ]
    }
   ],
   "source": [
    "%timeit pd.read_json('data/beer.json')"
   ]
  },
  {
   "cell_type": "code",
   "execution_count": 22,
   "metadata": {
    "collapsed": false,
    "slideshow": {
     "slide_type": "fragment"
    }
   },
   "outputs": [
    {
     "name": "stdout",
     "output_type": "stream",
     "text": [
      "1 loops, best of 3: 564 ms per loop\n"
     ]
    }
   ],
   "source": [
    "%timeit pd.read_csv('data/beer.csv', parse_dates=['time'])"
   ]
  },
  {
   "cell_type": "code",
   "execution_count": 23,
   "metadata": {
    "collapsed": false,
    "slideshow": {
     "slide_type": "fragment"
    }
   },
   "outputs": [
    {
     "name": "stdout",
     "output_type": "stream",
     "text": [
      "1 loops, best of 3: 292 ms per loop\n"
     ]
    }
   ],
   "source": [
    "%timeit pd.read_hdf('data/beer.hdf','df')"
   ]
  },
  {
   "cell_type": "markdown",
   "metadata": {
    "slideshow": {
     "slide_type": "slide"
    }
   },
   "source": [
    "# Storing Text vs Data\n",
    "http://matthewrocklin.com/blog/work/2015/03/16/Fast-Serialization/"
   ]
  },
  {
   "cell_type": "markdown",
   "metadata": {
    "slideshow": {
     "slide_type": "slide"
    }
   },
   "source": [
    "# Operating on Large Data"
   ]
  },
  {
   "cell_type": "code",
   "execution_count": 24,
   "metadata": {
    "collapsed": false,
    "slideshow": {
     "slide_type": "fragment"
    }
   },
   "outputs": [
    {
     "name": "stdout",
     "output_type": "stream",
     "text": [
      "0 -> 10000\n",
      "1 -> 10000\n",
      "2 -> 10000\n",
      "3 -> 10000\n",
      "4 -> 10000\n"
     ]
    }
   ],
   "source": [
    "chunks = pd.read_csv('data/beer2.csv.gz', \n",
    "                      index_col=0,\n",
    "                      parse_dates=['time'],\n",
    "                      chunksize=10000)\n",
    "for i, chunk in enumerate(chunks):\n",
    "    print(\"%d -> %d\" % (i, len(chunk)))"
   ]
  },
  {
   "cell_type": "markdown",
   "metadata": {
    "slideshow": {
     "slide_type": "fragment"
    }
   },
   "source": [
    "# Using Odo\n",
    "http://odo.readthedocs.org/"
   ]
  },
  {
   "cell_type": "markdown",
   "metadata": {
    "slideshow": {
     "slide_type": "fragment"
    }
   },
   "source": [
    "# Questions\n",
    "- which formats provide fidelity\n",
    "- which formats can you query/iterate\n",
    "- which formats provide better interoprability\n",
    "- which formats can you transmit over the wire\n",
    "- which formats have better compression\n",
    "- which formats allow multiple datasets in the same file"
   ]
  }
 ],
 "metadata": {
  "celltoolbar": "Slideshow",
  "kernelspec": {
   "display_name": "Python 2",
   "language": "python",
   "name": "python2"
  },
  "language_info": {
   "codemirror_mode": {
    "name": "ipython",
    "version": 2
   },
   "file_extension": ".py",
   "mimetype": "text/x-python",
   "name": "python",
   "nbconvert_exporter": "python",
   "pygments_lexer": "ipython2",
   "version": "2.7.10"
  }
 },
 "nbformat": 4,
 "nbformat_minor": 0
}
